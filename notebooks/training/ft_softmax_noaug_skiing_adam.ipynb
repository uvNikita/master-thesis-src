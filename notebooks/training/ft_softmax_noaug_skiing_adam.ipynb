{
 "cells": [
  {
   "cell_type": "code",
   "execution_count": 1,
   "metadata": {
    "collapsed": false,
    "deletable": true,
    "editable": true
   },
   "outputs": [],
   "source": [
    "import os\n",
    "import random\n",
    "import numpy as np\n",
    "import matplotlib.pyplot as plt\n",
    "import caffe\n",
    "import itertools as it\n",
    "import pandas as pd\n",
    "import cv2\n",
    "import scipy\n",
    "import seaborn\n",
    "import lmdb\n",
    "import shutil\n",
    "\n",
    "from caffe.proto import caffe_pb2\n",
    "from collections import defaultdict\n",
    "from math import ceil\n",
    "from copy import copy\n",
    "from collections import OrderedDict\n",
    "from operator import itemgetter, attrgetter\n",
    "from matplotlib import pyplot\n",
    "from scipy import ndimage as ndimage\n",
    "from os.path import join as pjoin\n",
    "\n",
    "from caffe import layers as L\n",
    "from caffe import params as P\n",
    "import tools\n",
    "\n",
    "from ntb.layer.data import Transformer\n",
    "from ntb.db import *\n",
    "\n",
    "from training.util import *\n",
    "\n",
    "%matplotlib inline\n",
    "pyplot.rcParams['figure.figsize'] = (10, 6)"
   ]
  },
  {
   "cell_type": "code",
   "execution_count": 2,
   "metadata": {
    "collapsed": false,
    "deletable": true,
    "editable": true
   },
   "outputs": [],
   "source": [
    "NET_NAME = \"ft_softmax_noaug_skiing_adam\"\n",
    "NET_DIR = pjoin(NETS_DIR, NET_NAME)\n",
    "\n",
    "DATA_DIR = pjoin(NET_DIR, 'data')\n",
    "SNAPSHOTS_DIR = pjoin(NET_DIR, 'snapshots')\n",
    "LOGS_DIR = pjoin(NET_DIR, 'logs')"
   ]
  },
  {
   "cell_type": "markdown",
   "metadata": {
    "deletable": true,
    "editable": true
   },
   "source": [
    "### Create all folders"
   ]
  },
  {
   "cell_type": "code",
   "execution_count": 3,
   "metadata": {
    "collapsed": true,
    "deletable": true,
    "editable": true
   },
   "outputs": [],
   "source": [
    "for net_dir in (DATA_DIR, SNAPSHOTS_DIR, LOGS_DIR):\n",
    "    if not os.path.isdir(net_dir):\n",
    "        os.makedirs(net_dir)"
   ]
  },
  {
   "cell_type": "code",
   "execution_count": 4,
   "metadata": {
    "collapsed": false,
    "deletable": true,
    "editable": true
   },
   "outputs": [],
   "source": [
    "db = NTBDB()"
   ]
  },
  {
   "cell_type": "markdown",
   "metadata": {
    "deletable": true,
    "editable": true
   },
   "source": [
    "# Data preparation"
   ]
  },
  {
   "cell_type": "code",
   "execution_count": 5,
   "metadata": {
    "collapsed": false,
    "deletable": true,
    "editable": true
   },
   "outputs": [
    {
     "name": "stdout",
     "output_type": "stream",
     "text": [
      "biathlon\n",
      "cross-country-skiing\n",
      "downhill-skiing\n",
      "giant-slalom\n",
      "nordic-combined\n",
      "ski-flying\n",
      "slalom\n",
      "snowboarding\n",
      "super-g\n"
     ]
    }
   ],
   "source": [
    "labels = np.asarray(sorted([\n",
    "    node.name \n",
    "    for node in db.tags.search_nodes(name='skiing')[0].get_descendants()\n",
    "    if not node.children and len(db.by_tag[node.name]) > 1000\n",
    "]))\n",
    "for label in labels:\n",
    "    print label"
   ]
  },
  {
   "cell_type": "code",
   "execution_count": 10,
   "metadata": {
    "collapsed": false,
    "deletable": true,
    "editable": true
   },
   "outputs": [],
   "source": [
    "dataset = {\n",
    "    label: {\n",
    "        im['filename'] for im in db.by_tag[label]\n",
    "    }  for label in labels \n",
    "}"
   ]
  },
  {
   "cell_type": "markdown",
   "metadata": {
    "deletable": true,
    "editable": true
   },
   "source": [
    "### Filtering out press-conferences and coaches pictures:"
   ]
  },
  {
   "cell_type": "code",
   "execution_count": 11,
   "metadata": {
    "collapsed": false,
    "deletable": true,
    "editable": true
   },
   "outputs": [],
   "source": [
    "exclude_tags = {u'press-conferences', u'coaches'}\n",
    "exclude_pics = set(map(itemgetter('filename'), it.chain.from_iterable(db.by_tag[t] for t in exclude_tags)))"
   ]
  },
  {
   "cell_type": "code",
   "execution_count": 12,
   "metadata": {
    "collapsed": false,
    "deletable": true,
    "editable": true
   },
   "outputs": [],
   "source": [
    "excluded_df = {}\n",
    "for label in dataset:\n",
    "    before = dataset[label]\n",
    "    after = before - exclude_pics\n",
    "    dataset[label] = after\n",
    "    rate = float(len(before) - len(after))/ len(before)\n",
    "    excluded_df[label] = round(rate * 100, 2)\n",
    "\n",
    "excluded_df = pd.DataFrame.from_dict(excluded_df, orient='index').rename(index=str, columns={0: 'excluded %'})"
   ]
  },
  {
   "cell_type": "code",
   "execution_count": 13,
   "metadata": {
    "collapsed": false,
    "deletable": true,
    "editable": true
   },
   "outputs": [
    {
     "data": {
      "text/html": [
       "<div>\n",
       "<table border=\"1\" class=\"dataframe\">\n",
       "  <thead>\n",
       "    <tr style=\"text-align: right;\">\n",
       "      <th></th>\n",
       "      <th>excluded %</th>\n",
       "    </tr>\n",
       "  </thead>\n",
       "  <tbody>\n",
       "    <tr>\n",
       "      <th>cross-country-skiing</th>\n",
       "      <td>7.53</td>\n",
       "    </tr>\n",
       "    <tr>\n",
       "      <th>biathlon</th>\n",
       "      <td>6.58</td>\n",
       "    </tr>\n",
       "    <tr>\n",
       "      <th>snowboarding</th>\n",
       "      <td>6.54</td>\n",
       "    </tr>\n",
       "    <tr>\n",
       "      <th>nordic-combined</th>\n",
       "      <td>3.54</td>\n",
       "    </tr>\n",
       "    <tr>\n",
       "      <th>ski-flying</th>\n",
       "      <td>3.20</td>\n",
       "    </tr>\n",
       "    <tr>\n",
       "      <th>slalom</th>\n",
       "      <td>1.14</td>\n",
       "    </tr>\n",
       "    <tr>\n",
       "      <th>super-g</th>\n",
       "      <td>0.38</td>\n",
       "    </tr>\n",
       "    <tr>\n",
       "      <th>giant-slalom</th>\n",
       "      <td>0.36</td>\n",
       "    </tr>\n",
       "    <tr>\n",
       "      <th>downhill-skiing</th>\n",
       "      <td>0.36</td>\n",
       "    </tr>\n",
       "  </tbody>\n",
       "</table>\n",
       "</div>"
      ],
      "text/plain": [
       "                      excluded %\n",
       "cross-country-skiing        7.53\n",
       "biathlon                    6.58\n",
       "snowboarding                6.54\n",
       "nordic-combined             3.54\n",
       "ski-flying                  3.20\n",
       "slalom                      1.14\n",
       "super-g                     0.38\n",
       "giant-slalom                0.36\n",
       "downhill-skiing             0.36"
      ]
     },
     "execution_count": 13,
     "metadata": {},
     "output_type": "execute_result"
    }
   ],
   "source": [
    "excluded_df.sort_values('excluded %', ascending=False)"
   ]
  },
  {
   "cell_type": "markdown",
   "metadata": {
    "deletable": true,
    "editable": true
   },
   "source": [
    "### Labels distribution"
   ]
  },
  {
   "cell_type": "code",
   "execution_count": 14,
   "metadata": {
    "collapsed": false,
    "deletable": true,
    "editable": true
   },
   "outputs": [],
   "source": [
    "def plot_distribution(data):\n",
    "    pic_num_distribution = {\n",
    "        label: len(imgs) for label, imgs in data.items()\n",
    "    }\n",
    "    data = sorted(pic_num_distribution.items(), key=itemgetter(1), reverse=True)\n",
    "    df = pd.DataFrame.from_dict(OrderedDict(data), orient='index')\n",
    "    df.plot(kind='bar', legend=False)"
   ]
  },
  {
   "cell_type": "code",
   "execution_count": 16,
   "metadata": {
    "collapsed": false,
    "deletable": true,
    "editable": true
   },
   "outputs": [
    {
     "data": {
      "image/png": "[encoded data removed]",
      "text/plain": [
       "<matplotlib.figure.Figure at 0x7f7729629390>"
      ]
     },
     "metadata": {},
     "output_type": "display_data"
    }
   ],
   "source": [
    "plot_distribution(dataset)"
   ]
  },
  {
   "cell_type": "markdown",
   "metadata": {
    "deletable": true,
    "editable": true
   },
   "source": [
    "### Reducing imblalance"
   ]
  },
  {
   "cell_type": "code",
   "execution_count": 17,
   "metadata": {
    "collapsed": false,
    "deletable": true,
    "editable": true
   },
   "outputs": [],
   "source": [
    "dataset_balanced = balance_dataset(dataset, limit=10000)\n",
    "assert all(\n",
    "    len(imgs - dataset[label]) == 0\n",
    "    for label, imgs in dataset_balanced.items()\n",
    "), \"Some images are not in the right categories\""
   ]
  },
  {
   "cell_type": "code",
   "execution_count": 18,
   "metadata": {
    "collapsed": false,
    "deletable": true,
    "editable": true
   },
   "outputs": [
    {
     "data": {
      "image/png": "[encoded data removed]",
      "text/plain": [
       "<matplotlib.figure.Figure at 0x7f7729172e10>"
      ]
     },
     "metadata": {},
     "output_type": "display_data"
    }
   ],
   "source": [
    "plot_distribution(dataset_balanced)"
   ]
  },
  {
   "cell_type": "markdown",
   "metadata": {
    "deletable": true,
    "editable": true
   },
   "source": [
    "### Train/Validation/Test dataset split on per category basis"
   ]
  },
  {
   "cell_type": "code",
   "execution_count": 19,
   "metadata": {
    "collapsed": false,
    "deletable": true,
    "editable": true
   },
   "outputs": [],
   "source": [
    "train, rest = split_dataset(dataset_balanced, 0.6)\n",
    "val, test = split_dataset(rest, 0.5)\n",
    "assert not set(it.chain.from_iterable(train.values())).intersection(set(it.chain.from_iterable(test.values())))\n",
    "assert not set(it.chain.from_iterable(train.values())).intersection(set(it.chain.from_iterable(val.values())))\n",
    "assert not set(it.chain.from_iterable(val.values())).intersection(set(it.chain.from_iterable(test.values())))"
   ]
  },
  {
   "cell_type": "markdown",
   "metadata": {
    "deletable": true,
    "editable": true
   },
   "source": [
    "### Write sampled dataset to lmdb"
   ]
  },
  {
   "cell_type": "code",
   "execution_count": 8,
   "metadata": {
    "collapsed": true,
    "deletable": true,
    "editable": true
   },
   "outputs": [],
   "source": [
    "train_lmdb = pjoin(DATA_DIR, 'train.lmdb')\n",
    "val_lmdb = pjoin(DATA_DIR, 'val.lmdb')\n",
    "mean_image = pjoin(DATA_DIR, 'mean_image.binaryproto')"
   ]
  },
  {
   "cell_type": "code",
   "execution_count": 21,
   "metadata": {
    "collapsed": false,
    "deletable": true,
    "editable": true
   },
   "outputs": [],
   "source": [
    "with open(pjoin(DATA_DIR, 'train_raw.pickle'), mode='w') as f:\n",
    "    pickle.dump(train, f, protocol=pickle.HIGHEST_PROTOCOL)\n",
    "with open(pjoin(DATA_DIR, 'val_raw.pickle'), mode='w') as f:\n",
    "    pickle.dump(val, f, protocol=pickle.HIGHEST_PROTOCOL)\n",
    "with open(pjoin(DATA_DIR, 'test_raw.pickle'), mode='w') as f:\n",
    "    pickle.dump(test, f, protocol=pickle.HIGHEST_PROTOCOL)\n",
    "with open(pjoin(DATA_DIR, 'labels.np'), mode='w') as f:\n",
    "    labels.dump(f)"
   ]
  },
  {
   "cell_type": "code",
   "execution_count": 22,
   "metadata": {
    "collapsed": true,
    "deletable": true,
    "editable": true
   },
   "outputs": [],
   "source": [
    "def make_datum(img, label):\n",
    "    return caffe_pb2.Datum(\n",
    "        channels=3,\n",
    "        width=227,\n",
    "        height=227,\n",
    "        label=label,\n",
    "        data=np.rollaxis(img, 2).tostring()\n",
    "    )\n",
    "\n",
    "def transform_img(img, img_width=227, img_height=227):\n",
    "#     img[:, :, 0] = cv2.equalizeHist(img[:, :, 0])\n",
    "#     img[:, :, 1] = cv2.equalizeHist(img[:, :, 1])\n",
    "#     img[:, :, 2] = cv2.equalizeHist(img[:, :, 2])\n",
    "\n",
    "    #Image Resizing\n",
    "    img = cv2.resize(img, (img_width, img_height), interpolation = cv2.INTER_CUBIC)\n",
    "\n",
    "    return img"
   ]
  },
  {
   "cell_type": "code",
   "execution_count": 26,
   "metadata": {
    "collapsed": true,
    "deletable": true,
    "editable": true
   },
   "outputs": [],
   "source": [
    "def write_lmdb(lmdb_path, indexes, batch_size=2000):\n",
    "    indexes = np.asarray(list(indexes))\n",
    "    np.random.shuffle(indexes)\n",
    "    batch_num = int(ceil(indexes.size/float(batch_size)))\n",
    "    print \"Writing {} images ({} batches) to {}\".format(len(indexes), batch_num, lmdb_path)\n",
    "    with lmdb.open(lmdb_path, map_size=227*227*3*2*indexes.size, writemap=True) as in_db:\n",
    "        index_lmdb = 0\n",
    "        for batch_idx, batch in enumerate(np.array_split(indexes, batch_num)):\n",
    "            with in_db.begin(write=True) as in_txn:\n",
    "                for index in batch:\n",
    "                    img = cv2.imread(db.image_path(index), cv2.IMREAD_COLOR)\n",
    "                    img = transform_img(img)\n",
    "                    for label in labels:\n",
    "                        if index in dataset[label]:\n",
    "                            break\n",
    "                    else:\n",
    "                        raise ValueError(\"no label: \" + index)\n",
    "                    label_id = np.where(labels == label)[0][0]\n",
    "                    datum = make_datum(img, label_id)\n",
    "                    try:\n",
    "                        in_txn.put('{:0>5d}'.format(index_lmdb), datum.SerializeToString())\n",
    "                    except Exception as e:\n",
    "                        print 'ERROR', index, str(e)\n",
    "                        raise\n",
    "                    index_lmdb += 1\n",
    "                print \"batch\", batch_idx, \"finished\""
   ]
  },
  {
   "cell_type": "code",
   "execution_count": 27,
   "metadata": {
    "collapsed": false,
    "deletable": true,
    "editable": true
   },
   "outputs": [
    {
     "name": "stdout",
     "output_type": "stream",
     "text": [
      "Writing 19008 images (10 batches) to /storage/nets/ft_softmax_noaug_skiing_adam/data/train.lmdb\n",
      "batch 0 finished\n",
      "batch 1 finished\n",
      "batch 2 finished\n",
      "batch 3 finished\n",
      "batch 4 finished\n",
      "batch 5 finished\n",
      "batch 6 finished\n",
      "batch 7 finished\n",
      "batch 8 finished\n",
      "batch 9 finished\n",
      "CPU times: user 44.1 s, sys: 20.5 s, total: 1min 4s\n",
      "Wall time: 1min 40s\n"
     ]
    }
   ],
   "source": [
    "%%time\n",
    "shutil.rmtree(train_lmdb, ignore_errors=True)\n",
    "write_lmdb(train_lmdb, it.chain.from_iterable(train.values()))"
   ]
  },
  {
   "cell_type": "code",
   "execution_count": 28,
   "metadata": {
    "collapsed": false,
    "deletable": true,
    "editable": true
   },
   "outputs": [
    {
     "name": "stdout",
     "output_type": "stream",
     "text": [
      "Writing 6292 images (4 batches) to /storage/nets/ft_softmax_noaug_skiing_adam/data/val.lmdb\n",
      "batch 0 finished\n",
      "batch 1 finished\n",
      "batch 2 finished\n",
      "batch 3 finished\n",
      "CPU times: user 13.7 s, sys: 7.19 s, total: 20.9 s\n",
      "Wall time: 33.7 s\n"
     ]
    }
   ],
   "source": [
    "%%time\n",
    "shutil.rmtree(val_lmdb, ignore_errors=True)\n",
    "write_lmdb(val_lmdb, it.chain.from_iterable(val.values()))"
   ]
  },
  {
   "cell_type": "code",
   "execution_count": 29,
   "metadata": {
    "collapsed": false,
    "deletable": true,
    "editable": true
   },
   "outputs": [
    {
     "name": "stdout",
     "output_type": "stream",
     "text": [
      "CPU times: user 36 ms, sys: 28 ms, total: 64 ms\n",
      "Wall time: 1.75 s\n"
     ]
    }
   ],
   "source": [
    "%%time\n",
    "!/work/caffe/build/tools/compute_image_mean -backend=lmdb $train_lmdb $mean_image"
   ]
  },
  {
   "cell_type": "markdown",
   "metadata": {
    "deletable": true,
    "editable": true
   },
   "source": [
    "# Training"
   ]
  },
  {
   "cell_type": "code",
   "execution_count": 6,
   "metadata": {
    "collapsed": true,
    "deletable": true,
    "editable": true
   },
   "outputs": [],
   "source": [
    "caffe.set_mode_gpu()"
   ]
  },
  {
   "cell_type": "markdown",
   "metadata": {
    "deletable": true,
    "editable": true
   },
   "source": [
    "### Setup logging"
   ]
  },
  {
   "cell_type": "code",
   "execution_count": 7,
   "metadata": {
    "collapsed": false,
    "deletable": true,
    "editable": true
   },
   "outputs": [],
   "source": [
    "logs_file_path = pjoin(LOGS_DIR, 'train.log')\n",
    "os.environ['GLOG_log_dir'] = LOGS_DIR\n",
    "os.environ['GLOG_logbufsecs'] = \"1\"\n",
    "caffe.set_log_info(logs_file_path)"
   ]
  },
  {
   "cell_type": "markdown",
   "metadata": {
    "deletable": true,
    "editable": true
   },
   "source": [
    "### Write nets and solver files"
   ]
  },
  {
   "cell_type": "code",
   "execution_count": 10,
   "metadata": {
    "collapsed": false,
    "deletable": true,
    "editable": true
   },
   "outputs": [],
   "source": [
    "solverprototxt = tools.CaffeSolver(\n",
    "    trainnet_prototxt_path=os.path.join(NET_DIR, \"trainnet.prototxt\"),\n",
    "    testnet_prototxt_path=os.path.join(NET_DIR, \"valnet.prototxt\"),\n",
    ")\n",
    "solverprototxt.sp['solver_mode'] = 'GPU'\n",
    "solverprototxt.sp['base_lr'] = \"0.0001\"\n",
    "solverprototxt.sp['display'] = \"1\"\n",
    "solverprototxt.sp['snapshot'] = \"200\"\n",
    "solverprototxt.sp['lr_policy'] = '\"fixed\"'\n",
    "solverprototxt.sp['test_interval'] = \"200\"\n",
    "solverprototxt.sp['test_iter'] = \"600\"\n",
    "solverprototxt.sp['max_iter'] = \"1000\"\n",
    "solverprototxt.sp['momentum'] = \"0.9\"\n",
    "solverprototxt.sp['snapshot_prefix'] = '\"{}\"'.format(os.path.join(SNAPSHOTS_DIR, 'snapshot'))\n",
    "solverprototxt.write(os.path.join(NET_DIR, 'solver.prototxt'))\n",
    "\n",
    "# write train net.\n",
    "with open(os.path.join(NET_DIR, 'trainnet.prototxt'), 'w') as f:\n",
    "    f.write(caffenet(\n",
    "        NET_NAME, train_lmdb,\n",
    "        mean_file=mean_image,\n",
    "        num_labels=labels.size, batch_size=256, include_acc=False\n",
    "    ))\n",
    "\n",
    "# write validation net.\n",
    "with open(os.path.join(NET_DIR, 'valnet.prototxt'), 'w') as f:\n",
    "    f.write(caffenet(\n",
    "        NET_NAME, val_lmdb,\n",
    "        mean_file=mean_image,\n",
    "        mirror=False,\n",
    "        num_labels=labels.size, batch_size=256, include_acc=True\n",
    "    ))\n",
    "    \n",
    "# # write testing net.\n",
    "# with open(os.path.join(NET_DIR, 'testnet.prototxt'), 'w') as f:\n",
    "#     f.write(caffenet_multilabel_sigmoid(NET_NAME, labels.size, is_test=True))"
   ]
  },
  {
   "cell_type": "markdown",
   "metadata": {
    "deletable": true,
    "editable": true
   },
   "source": [
    "### Load solver"
   ]
  },
  {
   "cell_type": "code",
   "execution_count": 8,
   "metadata": {
    "collapsed": false,
    "deletable": true,
    "editable": true
   },
   "outputs": [],
   "source": [
    "solver = caffe.AdamSolver(os.path.join(NET_DIR, 'solver.prototxt'))"
   ]
  },
  {
   "cell_type": "markdown",
   "metadata": {
    "deletable": true,
    "editable": true
   },
   "source": [
    "### Start new training"
   ]
  },
  {
   "cell_type": "code",
   "execution_count": 9,
   "metadata": {
    "collapsed": false,
    "deletable": true,
    "editable": true
   },
   "outputs": [],
   "source": [
    "solver.net.copy_from('/storage/models/caffenet/bvlc_reference_caffenet.caffemodel')\n",
    "solver.test_nets[0].share_with(solver.net)"
   ]
  },
  {
   "cell_type": "markdown",
   "metadata": {
    "deletable": true,
    "editable": true
   },
   "source": [
    "### Restore from snapshot"
   ]
  },
  {
   "cell_type": "code",
   "execution_count": 9,
   "metadata": {
    "collapsed": false,
    "deletable": true,
    "editable": true
   },
   "outputs": [
    {
     "name": "stdout",
     "output_type": "stream",
     "text": [
      "snapshot_iter_100.solverstate\n",
      "snapshot_iter_200.solverstate\n"
     ]
    }
   ],
   "source": [
    "for snapshot in sorted(os.listdir(SNAPSHOTS_DIR)):\n",
    "    if snapshot.endswith('solverstate'):\n",
    "        print snapshot"
   ]
  },
  {
   "cell_type": "code",
   "execution_count": 9,
   "metadata": {
    "collapsed": false,
    "deletable": true,
    "editable": true
   },
   "outputs": [],
   "source": [
    "solver.restore(os.path.join(SNAPSHOTS_DIR, 'snapshot_iter_200.solverstate'))\n",
    "solver.test_nets[0].share_with(solver.net)"
   ]
  },
  {
   "cell_type": "markdown",
   "metadata": {
    "deletable": true,
    "editable": true
   },
   "source": [
    "### Check images and labels"
   ]
  },
  {
   "cell_type": "code",
   "execution_count": 37,
   "metadata": {
    "collapsed": false,
    "deletable": true,
    "editable": true
   },
   "outputs": [],
   "source": [
    "# transformer = Transformer(shape=[227, 227])\n",
    "# image_index = 3\n",
    "# pyplot.figure()\n",
    "# pyplot.imshow(transformer.deprocess(copy(solver.net.blobs['data'].data[image_index, ...])))\n",
    "# gt = solver.net.blobs['label'].data[image_index, ...].astype(np.int)\n",
    "# pyplot.title('GT: {}'.format(labels[gt]))\n",
    "# pyplot.axis('off');"
   ]
  },
  {
   "cell_type": "markdown",
   "metadata": {
    "deletable": true,
    "editable": true
   },
   "source": [
    "### Train network"
   ]
  },
  {
   "cell_type": "code",
   "execution_count": 10,
   "metadata": {
    "collapsed": true,
    "deletable": true,
    "editable": true
   },
   "outputs": [],
   "source": [
    "solver.solve()"
   ]
  },
  {
   "cell_type": "markdown",
   "metadata": {
    "deletable": true,
    "editable": true
   },
   "source": [
    "### Rename log file"
   ]
  },
  {
   "cell_type": "code",
   "execution_count": 11,
   "metadata": {
    "collapsed": false,
    "deletable": true,
    "editable": true
   },
   "outputs": [
    {
     "name": "stdout",
     "output_type": "stream",
     "text": [
      "/storage/nets/ft_softmax_noaug_skiing_adam/logs/train.log20170321-150023.40 -> /storage/nets/ft_softmax_noaug_skiing_adam/logs/train.log\n"
     ]
    }
   ],
   "source": [
    "newest_log = pjoin(LOGS_DIR, max(os.listdir(LOGS_DIR), key=lambda log:  os.path.getctime(pjoin(LOGS_DIR, log))))\n",
    "print newest_log, '->', logs_file_path\n",
    "shutil.copyfile(newest_log, logs_file_path)"
   ]
  },
  {
   "cell_type": "markdown",
   "metadata": {
    "deletable": true,
    "editable": true
   },
   "source": [
    "### Look at some prediction results"
   ]
  },
  {
   "cell_type": "code",
   "execution_count": null,
   "metadata": {
    "collapsed": false,
    "deletable": true,
    "editable": true
   },
   "outputs": [],
   "source": [
    "test_net = solver.test_nets[0]\n",
    "for image_index in range(10):\n",
    "    gtlist = test_net.blobs['label'].data[image_index, ...].astype(np.int)\n",
    "    estlist = test_net.blobs['score'].data[image_index, ...] > 0\n",
    "    if np.where(estlist)[0].any():\n",
    "        plt.figure()\n",
    "        plt.imshow(transformer.deprocess(copy(test_net.blobs['data'].data[image_index, ...])))\n",
    "        plt.title('GT: {} \\n EST: {}'.format(labels[np.where(gtlist)], labels[np.where(estlist)]))\n",
    "        plt.axis('off')"
   ]
  }
 ],
 "metadata": {
  "kernelspec": {
   "display_name": "Python 2",
   "language": "python",
   "name": "python2"
  },
  "language_info": {
   "codemirror_mode": {
    "name": "ipython",
    "version": 2
   },
   "file_extension": ".py",
   "mimetype": "text/x-python",
   "name": "python",
   "nbconvert_exporter": "python",
   "pygments_lexer": "ipython2",
   "version": "2.7.12"
  }
 },
 "nbformat": 4,
 "nbformat_minor": 2
}
