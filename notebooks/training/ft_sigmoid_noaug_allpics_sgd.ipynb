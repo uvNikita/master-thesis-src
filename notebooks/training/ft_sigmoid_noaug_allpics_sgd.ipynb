{
 "cells": [
  {
   "cell_type": "code",
   "execution_count": 8,
   "metadata": {
    "collapsed": false,
    "deletable": true,
    "editable": true
   },
   "outputs": [],
   "source": [
    "import os\n",
    "import random\n",
    "import numpy as np\n",
    "import matplotlib.pyplot as plt\n",
    "import caffe\n",
    "import itertools as it\n",
    "import pandas\n",
    "import cv2\n",
    "import scipy\n",
    "\n",
    "from collections import defaultdict\n",
    "from math import ceil\n",
    "from copy import copy\n",
    "from collections import OrderedDict\n",
    "from operator import itemgetter, attrgetter\n",
    "from matplotlib import pyplot\n",
    "from scipy import ndimage as ndimage\n",
    "from wurlitzer import pipes\n",
    "from os.path import join as pjoin\n",
    "\n",
    "from caffe import layers as L\n",
    "from caffe import params as P\n",
    "import tools\n",
    "\n",
    "from ntb.layer.data import Transformer\n",
    "from ntb.db import *\n",
    "\n",
    "%matplotlib inline\n",
    "pyplot.rcParams['figure.figsize'] = (10, 6)"
   ]
  },
  {
   "cell_type": "code",
   "execution_count": 2,
   "metadata": {
    "collapsed": true,
    "deletable": true,
    "editable": true
   },
   "outputs": [],
   "source": [
    "SUB_DIR = \"ft_sigmoid_noaug_allpics_sgd\""
   ]
  },
  {
   "cell_type": "code",
   "execution_count": 3,
   "metadata": {
    "collapsed": true,
    "deletable": true,
    "editable": true
   },
   "outputs": [],
   "source": [
    "db = NTBDB()"
   ]
  },
  {
   "cell_type": "markdown",
   "metadata": {
    "deletable": true,
    "editable": true
   },
   "source": [
    "# Data preparation"
   ]
  },
  {
   "cell_type": "code",
   "execution_count": 4,
   "metadata": {
    "collapsed": false,
    "deletable": true,
    "editable": true
   },
   "outputs": [],
   "source": [
    "label_to_ntb = {\n",
    "    'football': ['footbal', 'football-pitches', 'fotballs'],\n",
    "    'person': ['full-length-portrait', 'portrait', 'persons'],\n",
    "    'skiing': [\n",
    "        'skiing', 'alpine-skiing', 'nordic-skiing', 'biathlon', 'freeskiing', 'freestyle-skiing', 'slalom', 'snowboarding', 'giant-slalom',\n",
    "        'super-g', 'telemark-skiiing', 'downhill-skiing', 'nordic-combined', 'cross-country-skiing', 'ski-jumping', 'ski-orienteering',\n",
    "        'long-distance-ski-races', 'ski-flying', 'relay-races', 'skis-and-ski-poles', 'ski-trips',\n",
    "    ],\n",
    "    'team-handball': ['team-handball'],\n",
    "    'woman': ['women'],\n",
    "    'child': ['children', 'girls', 'boys'],\n",
    "    'skating': ['icehockey', 'skating', 'figure-skating'],\n",
    "    'flag': ['flags'],\n",
    "    'crowd': ['demonstrations', 'supporters', 'crowds'],\n",
    "    'car': ['cars', 'ambulances', 'electric-cars', 'hybrid-cars', 'limousines', 'sports-cars', 'classic-cars', 'police-cars', 'automobile-racing', 'traffic'],\n",
    "    'bicycling': ['bicycle-racing', 'bicycling', 'road-bicycle-racing', 'bicycles', 'cross-country-bicycling'],\n",
    "    'flower': ['flowers', 'bouquet-of-flowers'],\n",
    "    'man': ['men'],\n",
    "    'medal': ['medals'],\n",
    "    'snow': ['snow'],\n",
    "    'hand': ['hands'],\n",
    "    'triumph': ['sign-of-triumph'],\n",
    "    'army': ['soldiers', 'the-armed-forces'],\n",
    "    'boat': ['boats', 'yachting', 'ferries', 'sailboats', 'passenger-ships', 'cruise-ships', 'fishing-boats'],\n",
    "    'norwegian-national-costumes': ['norwegian-national-costumes'],\n",
    "    'landscape': ['landscape'],\n",
    "    'signs': ['signs', 'traffic-signs'],\n",
    "    'running': ['running-[athletics]', 'middle-distance-running', 'long-distance-running'],\n",
    "    'aeroplane': ['aeroplanes'],\n",
    "    'sky': ['sky', 'clouds'],\n",
    "    'firemen': ['firemen'],\n",
    "    'beach-volleyball': ['beach-volleyball'],\n",
    "    'train': ['trains'],\n",
    "    'umbrella': ['umbrellas'],\n",
    "    'swimming': ['swimming-[sports]', 'swimming'],\n",
    "    'dog': ['dogs'],\n",
    "    'bus': ['buses'],\n",
    "    'harbour': ['harbours'],\n",
    "    'park': ['parks', 'forests'],\n",
    "    'bridge': ['bridges'],\n",
    "    'tree': ['trees'],\n",
    "    'shoe': ['shoes'],\n",
    "    'beach': ['beaches'],\n",
    "    'helicopter': ['helicopters', 'rescue-helicopters'],\n",
    "#     'red-carpet': ['red-carpet'],\n",
    "#     'horse': ['horses'],\n",
    "}\n",
    "labels = np.asarray(sorted(label_to_ntb.keys()))\n",
    "assert len(list(it.chain.from_iterable(label_to_ntb.values()))) == len(set(it.chain.from_iterable(label_to_ntb.values()))), \"Dublicates\""
   ]
  },
  {
   "cell_type": "code",
   "execution_count": 5,
   "metadata": {
    "collapsed": false,
    "deletable": true,
    "editable": true
   },
   "outputs": [],
   "source": [
    "ntb_to_label = {ntb_label: label for label, ntb_labels in label_to_ntb.items() for ntb_label in ntb_labels}\n",
    "\n",
    "dataset = {\n",
    "    label: set(it.chain.from_iterable(\n",
    "        map(itemgetter('filename'), db.by_tag[ntb_label]) for ntb_label in ntb_labels\n",
    "    )) for label, ntb_labels in label_to_ntb.items()\n",
    "}"
   ]
  },
  {
   "cell_type": "markdown",
   "metadata": {
    "deletable": true,
    "editable": true
   },
   "source": [
    "### Labels distribution"
   ]
  },
  {
   "cell_type": "code",
   "execution_count": 6,
   "metadata": {
    "collapsed": false,
    "deletable": true,
    "editable": true
   },
   "outputs": [],
   "source": [
    "def plot_distribution(data):\n",
    "    pic_num_distribution = {\n",
    "        label: len(imgs) for label, imgs in data.items()\n",
    "    }\n",
    "    data = sorted(pic_num_distribution.items(), key=itemgetter(1), reverse=True)\n",
    "    df = pandas.DataFrame.from_dict(OrderedDict(data), orient='index')\n",
    "    df.plot(kind='bar', legend=False)"
   ]
  },
  {
   "cell_type": "code",
   "execution_count": 9,
   "metadata": {
    "collapsed": false,
    "deletable": true,
    "editable": true
   },
   "outputs": [
    {
     "data": {
      "image/png": "[encoded data removed]",
      "text/plain": [
       "<matplotlib.figure.Figure at 0x7f9cd9d5cbd0>"
      ]
     },
     "metadata": {},
     "output_type": "display_data"
    }
   ],
   "source": [
    "plot_distribution(dataset)"
   ]
  },
  {
   "cell_type": "markdown",
   "metadata": {
    "deletable": true,
    "editable": true
   },
   "source": [
    "### Reducing imblalance"
   ]
  },
  {
   "cell_type": "code",
   "execution_count": 10,
   "metadata": {
    "collapsed": false,
    "deletable": true,
    "editable": true
   },
   "outputs": [],
   "source": [
    "def balance_dataset(dataset, limit=10000):\n",
    "    img_pools = {label: list(imgs) for label, imgs in dataset.items()}\n",
    "    balanced = defaultdict(set)\n",
    "    # shuffle img_pools\n",
    "    for imgs in img_pools.values():\n",
    "            random.shuffle(imgs)\n",
    "    \n",
    "    def insert_image(img):\n",
    "        for label, imgs in dataset.iteritems():\n",
    "            if img in imgs:\n",
    "                balanced[label].add(img)\n",
    "    \n",
    "    # process categories below the limit first\n",
    "    for label, pool in img_pools.iteritems():\n",
    "        if len(pool) > limit:\n",
    "            continue\n",
    "        while pool:\n",
    "            img = pool.pop()\n",
    "            insert_image(img)\n",
    "\n",
    "    to_process = set(dataset.keys())\n",
    "    while to_process:\n",
    "        for label in to_process.copy():\n",
    "            pool = img_pools[label]\n",
    "            if not pool or len(balanced[label]) >= limit:\n",
    "                # finished with this label\n",
    "                to_process.discard(label)\n",
    "                continue\n",
    "            img = random.choice(pool)\n",
    "            insert_image(img)\n",
    "    return dict(balanced)\n",
    "\n",
    "dataset_balanced = balance_dataset(dataset)\n",
    "assert all(\n",
    "    len(imgs - dataset[label]) == 0\n",
    "    for label, imgs in dataset_balanced.items()\n",
    "), \"Some images are not in the right categories\"\n",
    "assert all(\n",
    "    img in dataset_balanced[label]\n",
    "    for img in it.chain.from_iterable(dataset_balanced.values())\n",
    "    for label in filter(None, map(lambda nl: ntb_to_label.get(nl, None), db.metadata[img]['tags']))\n",
    "), \"Check that image is in all categories\""
   ]
  },
  {
   "cell_type": "code",
   "execution_count": 11,
   "metadata": {
    "collapsed": false,
    "deletable": true,
    "editable": true
   },
   "outputs": [
    {
     "data": {
      "image/png": "[encoded data removed]",
      "text/plain": [
       "<matplotlib.figure.Figure at 0x7f9cd9bacb90>"
      ]
     },
     "metadata": {},
     "output_type": "display_data"
    }
   ],
   "source": [
    "plot_distribution(dataset_balanced)"
   ]
  },
  {
   "cell_type": "markdown",
   "metadata": {
    "deletable": true,
    "editable": true
   },
   "source": [
    "### Train/Validation/Test dataset split on per category basis"
   ]
  },
  {
   "cell_type": "code",
   "execution_count": 12,
   "metadata": {
    "collapsed": true,
    "deletable": true,
    "editable": true
   },
   "outputs": [],
   "source": [
    "def split_dataset(dataset, ratio):\n",
    "    img_pools = {label: list(imgs) for label, imgs in dataset.items()}\n",
    "    split = defaultdict(set)\n",
    "    # shuffle img_pools\n",
    "    for imgs in img_pools.values():\n",
    "            random.shuffle(imgs)\n",
    "    \n",
    "    def insert_image(img):\n",
    "        for label, imgs in dataset.iteritems():\n",
    "            if img in imgs:\n",
    "                split[label].add(img)\n",
    "    \n",
    "    to_process = set(dataset.keys())\n",
    "    while to_process:\n",
    "        for label in to_process.copy():\n",
    "            pool = img_pools[label]\n",
    "            if not pool or float(len(split[label])) / len(dataset[label]) >= ratio:\n",
    "                # finished with this label\n",
    "                #print label, len(pool), len(balanced[label])\n",
    "                to_process.discard(label)\n",
    "                continue\n",
    "            img = pool.pop()\n",
    "            insert_image(img)\n",
    "    return dict(split), {label: imgs - split[label] for label, imgs in dataset.iteritems()}"
   ]
  },
  {
   "cell_type": "code",
   "execution_count": 13,
   "metadata": {
    "collapsed": false,
    "deletable": true,
    "editable": true
   },
   "outputs": [],
   "source": [
    "train, rest = split_dataset(dataset_balanced, 0.6)\n",
    "val, test = split_dataset(rest, 0.5)\n",
    "assert not set(it.chain.from_iterable(train.values())).intersection(set(it.chain.from_iterable(test.values())))\n",
    "assert not set(it.chain.from_iterable(train.values())).intersection(set(it.chain.from_iterable(val.values())))\n",
    "assert not set(it.chain.from_iterable(val.values())).intersection(set(it.chain.from_iterable(test.values())))"
   ]
  },
  {
   "cell_type": "markdown",
   "metadata": {
    "deletable": true,
    "editable": true
   },
   "source": [
    "### Write sampled dataset to sub directory"
   ]
  },
  {
   "cell_type": "code",
   "execution_count": 14,
   "metadata": {
    "collapsed": true,
    "deletable": true,
    "editable": true
   },
   "outputs": [],
   "source": [
    "data_dir = pjoin(BASE_DIR, 'nets', SUB_DIR, 'data')\n",
    "if not os.path.isdir(data_dir):\n",
    "    os.makedirs(data_dir)\n",
    "\n",
    "def dump_training_data(data, split):\n",
    "    training_data = {}\n",
    "    for label, imgs in data.iteritems():\n",
    "        for index in imgs:\n",
    "            training_data.setdefault(index, {})\n",
    "            if 'folder' not in training_data[index]:\n",
    "                training_data[index]['folder'] = db.metadata[index]['folder']\n",
    "            training_data[index].setdefault('labels', []).append(labels.tolist().index(label))\n",
    "    data_path = pjoin(data_dir, split + '.pickle')\n",
    "    with open(data_path, mode='w') as f:\n",
    "        pickle.dump(training_data, f, protocol=pickle.HIGHEST_PROTOCOL)"
   ]
  },
  {
   "cell_type": "code",
   "execution_count": 15,
   "metadata": {
    "collapsed": false,
    "deletable": true,
    "editable": true
   },
   "outputs": [],
   "source": [
    "dump_training_data(train, 'train')\n",
    "dump_training_data(val, 'val')"
   ]
  },
  {
   "cell_type": "code",
   "execution_count": 16,
   "metadata": {
    "collapsed": true,
    "deletable": true,
    "editable": true
   },
   "outputs": [],
   "source": [
    "with open(pjoin(data_dir, 'train_raw.pickle'), mode='w') as f:\n",
    "    pickle.dump(train, f, protocol=pickle.HIGHEST_PROTOCOL)\n",
    "with open(pjoin(data_dir, 'val_raw.pickle'), mode='w') as f:\n",
    "    pickle.dump(val, f, protocol=pickle.HIGHEST_PROTOCOL)\n",
    "with open(pjoin(data_dir, 'test_raw.pickle'), mode='w') as f:\n",
    "    pickle.dump(test, f, protocol=pickle.HIGHEST_PROTOCOL)\n",
    "with open(pjoin(data_dir, 'labels.np'), mode='w') as f:\n",
    "    labels.dump(f)"
   ]
  },
  {
   "cell_type": "markdown",
   "metadata": {
    "deletable": true,
    "editable": true
   },
   "source": [
    "# Training"
   ]
  },
  {
   "cell_type": "code",
   "execution_count": 17,
   "metadata": {
    "collapsed": true,
    "deletable": true,
    "editable": true
   },
   "outputs": [],
   "source": [
    "caffe.set_mode_gpu()"
   ]
  },
  {
   "cell_type": "markdown",
   "metadata": {
    "deletable": true,
    "editable": true
   },
   "source": [
    "### Define network"
   ]
  },
  {
   "cell_type": "code",
   "execution_count": 18,
   "metadata": {
    "collapsed": true,
    "deletable": true,
    "editable": true
   },
   "outputs": [],
   "source": [
    "def conv_relu(bottom, ks, nout, stride=1, pad=0, group=1):\n",
    "    conv = L.Convolution(bottom, kernel_size=ks, stride=stride,\n",
    "                                num_output=nout, pad=pad, group=group)\n",
    "    return conv, L.ReLU(conv, in_place=True)\n",
    "\n",
    "def fc_relu(bottom, nout):\n",
    "    fc = L.InnerProduct(bottom, num_output=nout)\n",
    "    return fc, L.ReLU(fc, in_place=True)\n",
    "\n",
    "def max_pool(bottom, ks, stride=1):\n",
    "    return L.Pooling(bottom, pool=P.Pooling.MAX, kernel_size=ks, stride=stride)\n",
    "\n",
    "def caffenet_multilabel(data_layer_params):\n",
    "    # setup the ntb data layer \n",
    "    n = caffe.NetSpec()\n",
    "    n.data, n.label = L.Python(\n",
    "        module='ntb.layer.data', layer='NTBDataLayer', \n",
    "        ntop=2, param_str=str(data_layer_params)\n",
    "    )\n",
    "\n",
    "    # caffenet\n",
    "    n.conv1, n.relu1 = conv_relu(n.data, 11, 96, stride=4)\n",
    "    n.pool1 = max_pool(n.relu1, 3, stride=2)\n",
    "    n.norm1 = L.LRN(n.pool1, local_size=5, alpha=1e-4, beta=0.75)\n",
    "    n.conv2, n.relu2 = conv_relu(n.norm1, 5, 256, pad=2, group=2)\n",
    "    n.pool2 = max_pool(n.relu2, 3, stride=2)\n",
    "    n.norm2 = L.LRN(n.pool2, local_size=5, alpha=1e-4, beta=0.75)\n",
    "    n.conv3, n.relu3 = conv_relu(n.norm2, 3, 384, pad=1)\n",
    "    n.conv4, n.relu4 = conv_relu(n.relu3, 3, 384, pad=1, group=2)\n",
    "    n.conv5, n.relu5 = conv_relu(n.relu4, 3, 256, pad=1, group=2)\n",
    "    n.pool5 = max_pool(n.relu5, 3, stride=2)\n",
    "    n.fc6, n.relu6 = fc_relu(n.pool5, 4096)\n",
    "    n.drop6 = L.Dropout(n.relu6, in_place=True)\n",
    "    n.fc7, n.relu7 = fc_relu(n.drop6, 4096)\n",
    "    n.drop7 = L.Dropout(n.relu7, in_place=True)\n",
    "    n.score = L.InnerProduct(n.drop7, num_output=labels.size)\n",
    "    \n",
    "    # Changed loss function\n",
    "    n.loss = L.SigmoidCrossEntropyLoss(n.score, n.label)\n",
    "    \n",
    "    return str(n.to_proto())"
   ]
  },
  {
   "cell_type": "markdown",
   "metadata": {
    "deletable": true,
    "editable": true
   },
   "source": [
    "### Write nets and solver files"
   ]
  },
  {
   "cell_type": "code",
   "execution_count": 19,
   "metadata": {
    "collapsed": false,
    "deletable": true,
    "editable": true
   },
   "outputs": [],
   "source": [
    "workdir = pjoin('/storage/ntb/nets', SUB_DIR)\n",
    "if not os.path.isdir(workdir):\n",
    "    os.makedirs(workdir)\n",
    "snapshotsdir = os.path.join(workdir, 'snapshots')\n",
    "if not os.path.isdir(snapshotsdir):\n",
    "    os.makedirs(snapshotsdir)\n",
    "\n",
    "logs_file_path = pjoin(workdir, 'train.log')\n",
    "    \n",
    "solverprototxt = tools.CaffeSolver(\n",
    "    trainnet_prototxt_path=os.path.join(workdir, \"trainnet.prototxt\"),\n",
    "    testnet_prototxt_path=os.path.join(workdir, \"valnet.prototxt\"),\n",
    ")\n",
    "solverprototxt.sp['base_lr'] = \"0.0001\"\n",
    "solverprototxt.sp['display'] = \"1\"\n",
    "solverprototxt.sp['snapshot'] = \"200\"\n",
    "solverprototxt.sp['lr_policy'] = '\"fixed\"'\n",
    "solverprototxt.sp['test_interval'] = \"200\"\n",
    "solverprototxt.sp['test_iter'] = \"1000\"\n",
    "# solverprototxt.sp['power'] = \"0.5\"\n",
    "solverprototxt.sp['snapshot_prefix'] = '\"{}\"'.format(os.path.join(snapshotsdir, 'snapshot'))\n",
    "solverprototxt.write(os.path.join(workdir, 'solver.prototxt'))\n",
    "\n",
    "base_data_layer_params = dict(\n",
    "    batch_size=200,\n",
    "    im_shape=[227, 227],\n",
    "    ntb_root=BASE_DIR,\n",
    "    sub_dir=SUB_DIR,\n",
    "    num_labels=labels.size\n",
    ")\n",
    "# write train net.\n",
    "with open(os.path.join(workdir, 'trainnet.prototxt'), 'w') as f:\n",
    "    data_layer_params = dict(base_data_layer_params, split='train')\n",
    "    f.write(caffenet_multilabel(data_layer_params))\n",
    "\n",
    "# write validation net.\n",
    "with open(os.path.join(workdir, 'valnet.prototxt'), 'w') as f:\n",
    "    data_layer_params = dict(base_data_layer_params, split='val', batch_size=20)\n",
    "    f.write(caffenet_multilabel(data_layer_params))"
   ]
  },
  {
   "cell_type": "markdown",
   "metadata": {
    "deletable": true,
    "editable": true
   },
   "source": [
    "### Load solver"
   ]
  },
  {
   "cell_type": "code",
   "execution_count": 20,
   "metadata": {
    "collapsed": false,
    "deletable": true,
    "editable": true
   },
   "outputs": [
    {
     "name": "stdout",
     "output_type": "stream",
     "text": [
      "BatchLoader initialized with 76501 images\n",
      "NTBDataLayer initialized for sub_dir: ft_sigmoid_noaug_allpics_sgd, split: train, with bs: 200, im_shape: [227, 227], num_labels: 39.\n",
      "BatchLoader initialized with 26636 images\n",
      "NTBDataLayer initialized for sub_dir: ft_sigmoid_noaug_allpics_sgd, split: val, with bs: 20, im_shape: [227, 227], num_labels: 39.\n"
     ]
    }
   ],
   "source": [
    "solver = caffe.SGDSolver(os.path.join(workdir, 'solver.prototxt'))"
   ]
  },
  {
   "cell_type": "markdown",
   "metadata": {
    "deletable": true,
    "editable": true
   },
   "source": [
    "### Start new training"
   ]
  },
  {
   "cell_type": "code",
   "execution_count": 21,
   "metadata": {
    "collapsed": true,
    "deletable": true,
    "editable": true
   },
   "outputs": [],
   "source": [
    "try:\n",
    "    os.remove(logs_file_path)\n",
    "except:\n",
    "    pass\n",
    "solver.net.copy_from('/models/caffenet/bvlc_reference_caffenet.caffemodel')\n",
    "solver.test_nets[0].share_with(solver.net)"
   ]
  },
  {
   "cell_type": "markdown",
   "metadata": {
    "deletable": true,
    "editable": true
   },
   "source": [
    "### Restore from snapshot"
   ]
  },
  {
   "cell_type": "code",
   "execution_count": 20,
   "metadata": {
    "collapsed": false,
    "deletable": true,
    "editable": true
   },
   "outputs": [
    {
     "name": "stdout",
     "output_type": "stream",
     "text": [
      "snapshot_iter_101.solverstate\n",
      "snapshot_iter_200.solverstate\n",
      "snapshot_iter_853.solverstate\n"
     ]
    }
   ],
   "source": [
    "for snapshot in sorted(os.listdir(snapshotsdir)):\n",
    "    if snapshot.endswith('solverstate'):\n",
    "        print snapshot"
   ]
  },
  {
   "cell_type": "code",
   "execution_count": 21,
   "metadata": {
    "collapsed": false,
    "deletable": true,
    "editable": true
   },
   "outputs": [],
   "source": [
    "solver.restore(os.path.join(snapshotsdir, 'snapshot_iter_200.solverstate'))\n",
    "solver.test_nets[0].share_with(solver.net)"
   ]
  },
  {
   "cell_type": "markdown",
   "metadata": {
    "deletable": true,
    "editable": true
   },
   "source": [
    "### Check images and labels"
   ]
  },
  {
   "cell_type": "code",
   "execution_count": 28,
   "metadata": {
    "collapsed": false,
    "deletable": true,
    "editable": true
   },
   "outputs": [],
   "source": [
    "# transformer = Transformer(shape=[227, 227])\n",
    "# image_index = 199\n",
    "# pyplot.figure()\n",
    "# pyplot.imshow(transformer.deprocess(copy(solver.net.blobs['data'].data[image_index, ...])))\n",
    "# gtlist = solver.net.blobs['label'].data[image_index, ...].astype(np.int)\n",
    "# pyplot.title('GT: {}'.format(labels[np.where(gtlist)]))\n",
    "# pyplot.axis('off');"
   ]
  },
  {
   "cell_type": "markdown",
   "metadata": {
    "deletable": true,
    "editable": true
   },
   "source": [
    "### Train network"
   ]
  },
  {
   "cell_type": "code",
   "execution_count": 23,
   "metadata": {
    "collapsed": false,
    "deletable": true,
    "editable": true
   },
   "outputs": [
    {
     "name": "stdout",
     "output_type": "stream",
     "text": [
      "Epoch 0 finished\n",
      "Epoch 1 finished\n",
      "Epoch 1 finished\n",
      "Epoch 2 finished\n",
      "CPU times: user 28min 51s, sys: 9min 17s, total: 38min 9s\n",
      "Wall time: 1h 28min 5s\n"
     ]
    }
   ],
   "source": [
    "%%time\n",
    "with open(logs_file_path, mode='a') as logs_file:\n",
    "    with pipes(stdout=logs_file, stderr=logs_file):\n",
    "        solver.step(600)"
   ]
  },
  {
   "cell_type": "code",
   "execution_count": 79,
   "metadata": {
    "collapsed": true,
    "deletable": true,
    "editable": true
   },
   "outputs": [],
   "source": [
    "solver.snapshot()"
   ]
  },
  {
   "cell_type": "markdown",
   "metadata": {
    "deletable": true,
    "editable": true
   },
   "source": [
    "### Look at some prediction results"
   ]
  },
  {
   "cell_type": "code",
   "execution_count": null,
   "metadata": {
    "collapsed": false,
    "deletable": true,
    "editable": true
   },
   "outputs": [],
   "source": [
    "test_net = solver.test_nets[0]\n",
    "for image_index in range(100):\n",
    "    gtlist = test_net.blobs['label'].data[image_index, ...].astype(np.int)\n",
    "    estlist = test_net.blobs['score'].data[image_index, ...] > 0\n",
    "    if np.where(estlist)[0].any():\n",
    "        plt.figure()\n",
    "        plt.imshow(transformer.deprocess(copy(test_net.blobs['data'].data[image_index, ...])))\n",
    "        plt.title('GT: {} \\n EST: {}'.format(labels[np.where(gtlist)], labels[np.where(estlist)]))\n",
    "        plt.axis('off')"
   ]
  }
 ],
 "metadata": {
  "kernelspec": {
   "display_name": "Python 2",
   "language": "python",
   "name": "python2"
  },
  "language_info": {
   "codemirror_mode": {
    "name": "ipython",
    "version": 2
   },
   "file_extension": ".py",
   "mimetype": "text/x-python",
   "name": "python",
   "nbconvert_exporter": "python",
   "pygments_lexer": "ipython2",
   "version": "2.7.12"
  }
 },
 "nbformat": 4,
 "nbformat_minor": 2
}
