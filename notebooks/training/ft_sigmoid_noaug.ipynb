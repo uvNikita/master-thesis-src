{
 "cells": [
  {
   "cell_type": "code",
   "execution_count": 200,
   "metadata": {
    "collapsed": false
   },
   "outputs": [],
   "source": [
    "import os\n",
    "import random\n",
    "import numpy as np\n",
    "import matplotlib.pyplot as plt\n",
    "import caffe\n",
    "import itertools\n",
    "import pandas\n",
    "import cv2\n",
    "import scipy\n",
    "\n",
    "from math import ceil\n",
    "from copy import copy\n",
    "from collections import OrderedDict\n",
    "from operator import itemgetter, attrgetter\n",
    "from matplotlib import pyplot\n",
    "from scipy import ndimage as ndimage\n",
    "\n",
    "from caffe import layers as L\n",
    "from caffe import params as P\n",
    "import tools\n",
    "\n",
    "from ntb.db import *\n",
    "\n",
    "%matplotlib inline\n",
    "pyplot.rcParams['figure.figsize'] = (10, 6)\n",
    "\n",
    "# set seed to make randomization reproducible\n",
    "random.seed(0)\n",
    "np.random.seed(0)"
   ]
  },
  {
   "cell_type": "code",
   "execution_count": 2,
   "metadata": {
    "collapsed": true
   },
   "outputs": [],
   "source": [
    "SUB_DIR = \"ft_sigmoid_noaug\""
   ]
  },
  {
   "cell_type": "code",
   "execution_count": 3,
   "metadata": {
    "collapsed": true
   },
   "outputs": [],
   "source": [
    "db = NTBDB()"
   ]
  },
  {
   "cell_type": "markdown",
   "metadata": {},
   "source": [
    "# Data preparation"
   ]
  },
  {
   "cell_type": "code",
   "execution_count": 4,
   "metadata": {
    "collapsed": false
   },
   "outputs": [],
   "source": [
    "label_to_ntb = {\n",
    "    'football': ['footbal', 'football-pitches', 'fotballs'],\n",
    "    'person': ['full-length-portrait', 'portrait', 'persons'],\n",
    "    'skiing': [\n",
    "        'skiing', 'alpine-skiing', 'nordic-skiing', 'biathlon', 'freeskiing', 'freestyle-skiing', 'slalom', 'snowboarding', 'giant-slalom',\n",
    "        'super-g', 'telemark-skiiing', 'downhill-skiing', 'nordic-combined', 'cross-country-skiing', 'ski-jumping', 'ski-orienteering',\n",
    "        'long-distance-ski-races', 'ski-flying', 'relay-races', 'skis-and-ski-poles', 'ski-trips',\n",
    "    ],\n",
    "    'team-handball': ['team-handball'],\n",
    "    'woman': ['women'],\n",
    "    'child': ['children', 'girls', 'boys'],\n",
    "    'skating': ['icehockey', 'skating', 'figure-skating'],\n",
    "    'flag': ['flags'],\n",
    "    'crowd': ['demonstrations', 'supporters', 'crowds'],\n",
    "    'car': ['cars', 'ambulances', 'electric-cars', 'hybrid-cars', 'limousines', 'sports-cars', 'classic-cars', 'police-cars', 'automobile-racing', 'traffic'],\n",
    "    'bicycling': ['bicycle-racing', 'bicycling', 'road-bicycle-racing', 'bicycles', 'cross-country-bicycling'],\n",
    "    'flower': ['flowers', 'bouquet-of-flowers'],\n",
    "    'man': ['men'],\n",
    "    'medal': ['medals'],\n",
    "    'snow': ['snow'],\n",
    "    'hand': ['hands'],\n",
    "    'triumph': ['sign-of-triumph'],\n",
    "    'army': ['soldiers', 'the-armed-forces'],\n",
    "    'boat': ['boats', 'yachting', 'ferries', 'sailboats', 'passenger-ships', 'cruise-ships', 'fishing-boats'],\n",
    "    'norwegian-national-costumes': ['norwegian-national-costumes'],\n",
    "    'landscape': ['landscape'],\n",
    "    'signs': ['signs', 'traffic-signs'],\n",
    "    'running': ['running-[athletics]', 'middle-distance-running', 'long-distance-running'],\n",
    "    'aeroplane': ['aeroplanes'],\n",
    "    'sky': ['sky', 'clouds'],\n",
    "    'firemen': ['firemen'],\n",
    "    'beach-volleyball': ['beach-volleyball'],\n",
    "    'train': ['trains'],\n",
    "    'umbrella': ['umbrellas'],\n",
    "    'swimming': ['swimming-[sports]', 'swimming'],\n",
    "    'dog': ['dogs'],\n",
    "    'bus': ['buses'],\n",
    "    'harbour': ['harbours'],\n",
    "    'park': ['parks', 'forests'],\n",
    "    'bridge': ['bridges'],\n",
    "    'tree': ['trees'],\n",
    "    'shoe': ['shoes'],\n",
    "    'beach': ['beaches'],\n",
    "    'helicopter': ['helicopters', 'rescue-helicopters'],\n",
    "    'red-carpet': ['red-carpet'],\n",
    "    'horse': ['horses'],\n",
    "}\n",
    "labels = np.asarray(sorted(label_to_ntb.keys()))\n",
    "assert len(list(itertools.chain.from_iterable(label_to_ntb.values()))) == len(set(itertools.chain.from_iterable(label_to_ntb.values()))), \"Dublicates\""
   ]
  },
  {
   "cell_type": "code",
   "execution_count": 5,
   "metadata": {
    "collapsed": false
   },
   "outputs": [],
   "source": [
    "ntb_to_label = {ntb_label: label for label, ntb_labels in label_to_ntb.items() for ntb_label in ntb_labels}\n",
    "\n",
    "dataset = {\n",
    "    label: np.unique(np.asarray(list(itertools.chain.from_iterable(\n",
    "        map(itemgetter('filename'), db.by_tag[ntb_label]) for ntb_label in ntb_labels\n",
    "    )))) for label, ntb_labels in label_to_ntb.items()\n",
    "}"
   ]
  },
  {
   "cell_type": "markdown",
   "metadata": {},
   "source": [
    "### Labels distribution"
   ]
  },
  {
   "cell_type": "code",
   "execution_count": 6,
   "metadata": {
    "collapsed": false
   },
   "outputs": [],
   "source": [
    "def plot_distribution(data):\n",
    "    pic_num_distribution = {\n",
    "        label: imgs.size for label, imgs in data.items()\n",
    "    }\n",
    "    data = sorted(pic_num_distribution.items(), key=itemgetter(1), reverse=True)\n",
    "    df = pandas.DataFrame.from_dict(OrderedDict(data), orient='index')\n",
    "    df.plot(kind='bar', legend=False)"
   ]
  },
  {
   "cell_type": "code",
   "execution_count": 7,
   "metadata": {
    "collapsed": false
   },
   "outputs": [
    {
     "data": {
      "image/png": "[encoded data removed]",
      "text/plain": [
       "<matplotlib.figure.Figure at 0x7fbde81afc90>"
      ]
     },
     "metadata": {},
     "output_type": "display_data"
    }
   ],
   "source": [
    "plot_distribution(dataset)"
   ]
  },
  {
   "cell_type": "markdown",
   "metadata": {},
   "source": [
    "### Reducing imblalance"
   ]
  },
  {
   "cell_type": "code",
   "execution_count": 7,
   "metadata": {
    "collapsed": false
   },
   "outputs": [],
   "source": [
    "LIMIT = 10000\n",
    "dataset_balanced = {label: np.asarray(imgs) for label, imgs in dataset.iteritems()}\n",
    "for label, imgs in dataset_balanced.iteritems():\n",
    "    if imgs.size > LIMIT:\n",
    "        dataset_balanced[label] = np.random.choice(imgs, LIMIT)"
   ]
  },
  {
   "cell_type": "code",
   "execution_count": 9,
   "metadata": {
    "collapsed": false
   },
   "outputs": [
    {
     "data": {
      "image/png": "[encoded data removed]",
      "text/plain": [
       "<matplotlib.figure.Figure at 0x7fbde7f760d0>"
      ]
     },
     "metadata": {},
     "output_type": "display_data"
    }
   ],
   "source": [
    "plot_distribution(dataset_balanced)"
   ]
  },
  {
   "cell_type": "markdown",
   "metadata": {},
   "source": [
    "### Train/Validation/Test dataset split on per category basis"
   ]
  },
  {
   "cell_type": "code",
   "execution_count": 8,
   "metadata": {
    "collapsed": false
   },
   "outputs": [],
   "source": [
    "def train_val_test_split(dataset, split=(0.6, 0.2, 0.2)):\n",
    "    assert sum(split) == 1\n",
    "    train_ratio, val_ratio, test_ratio = split\n",
    "    train, val, test = {}, {}, {}\n",
    "    for label, imgs in dataset.iteritems():\n",
    "        np.random.shuffle(imgs)\n",
    "        train[label] = imgs[:int(imgs.size * train_ratio)]\n",
    "        val[label] = imgs[int(imgs.size * train_ratio):int(imgs.size * (train_ratio + val_ratio))]\n",
    "        test[label] = imgs[int(imgs.size * (train_ratio + val_ratio)):]\n",
    "    return train, val, test"
   ]
  },
  {
   "cell_type": "code",
   "execution_count": 9,
   "metadata": {
    "collapsed": false
   },
   "outputs": [],
   "source": [
    "train, val, test = train_val_test_split(dataset_balanced)"
   ]
  },
  {
   "cell_type": "markdown",
   "metadata": {},
   "source": [
    "### Write sampled dataset to sub directory"
   ]
  },
  {
   "cell_type": "code",
   "execution_count": 18,
   "metadata": {
    "collapsed": true
   },
   "outputs": [],
   "source": [
    "def dump_training_data(data, split):\n",
    "    sub_path = os.path.join(BASE_DIR, 'training_data', SUB_DIR)\n",
    "    training_data = {}\n",
    "    for label, imgs in data.iteritems():\n",
    "        for index in imgs:\n",
    "            training_data.setdefault(index, {})\n",
    "            if 'folder' not in training_data[index]:\n",
    "                training_data[index]['folder'] = db.metadata[index]['folder']\n",
    "            training_data[index].setdefault('labels', []).append(labels.tolist().index(label))\n",
    "    data_path = os.path.join(BASE_DIR, 'training_data', SUB_DIR, split + '.pickle')\n",
    "    with open(data_path, mode='w') as f:\n",
    "        pickle.dump(training_data, f, protocol=pickle.HIGHEST_PROTOCOL)"
   ]
  },
  {
   "cell_type": "code",
   "execution_count": 19,
   "metadata": {
    "collapsed": false
   },
   "outputs": [],
   "source": [
    "dump_training_data(train, 'train')\n",
    "dump_training_data(val, 'val')"
   ]
  },
  {
   "cell_type": "markdown",
   "metadata": {},
   "source": [
    "# Training"
   ]
  },
  {
   "cell_type": "code",
   "execution_count": 10,
   "metadata": {
    "collapsed": true
   },
   "outputs": [],
   "source": [
    "caffe.set_mode_gpu()"
   ]
  },
  {
   "cell_type": "markdown",
   "metadata": {},
   "source": [
    "### Define network"
   ]
  },
  {
   "cell_type": "code",
   "execution_count": 11,
   "metadata": {
    "collapsed": true
   },
   "outputs": [],
   "source": [
    "def conv_relu(bottom, ks, nout, stride=1, pad=0, group=1):\n",
    "    conv = L.Convolution(bottom, kernel_size=ks, stride=stride,\n",
    "                                num_output=nout, pad=pad, group=group)\n",
    "    return conv, L.ReLU(conv, in_place=True)\n",
    "\n",
    "def fc_relu(bottom, nout):\n",
    "    fc = L.InnerProduct(bottom, num_output=nout)\n",
    "    return fc, L.ReLU(fc, in_place=True)\n",
    "\n",
    "def max_pool(bottom, ks, stride=1):\n",
    "    return L.Pooling(bottom, pool=P.Pooling.MAX, kernel_size=ks, stride=stride)\n",
    "\n",
    "def caffenet_multilabel(data_layer_params):\n",
    "    # setup the ntb data layer \n",
    "    n = caffe.NetSpec()\n",
    "    n.data, n.label = L.Python(\n",
    "        module='ntb.layer.data', layer='NTBDataLayer', \n",
    "        ntop=2, param_str=str(data_layer_params)\n",
    "    )\n",
    "\n",
    "    # caffenet\n",
    "    n.conv1, n.relu1 = conv_relu(n.data, 11, 96, stride=4)\n",
    "    n.pool1 = max_pool(n.relu1, 3, stride=2)\n",
    "    n.norm1 = L.LRN(n.pool1, local_size=5, alpha=1e-4, beta=0.75)\n",
    "    n.conv2, n.relu2 = conv_relu(n.norm1, 5, 256, pad=2, group=2)\n",
    "    n.pool2 = max_pool(n.relu2, 3, stride=2)\n",
    "    n.norm2 = L.LRN(n.pool2, local_size=5, alpha=1e-4, beta=0.75)\n",
    "    n.conv3, n.relu3 = conv_relu(n.norm2, 3, 384, pad=1)\n",
    "    n.conv4, n.relu4 = conv_relu(n.relu3, 3, 384, pad=1, group=2)\n",
    "    n.conv5, n.relu5 = conv_relu(n.relu4, 3, 256, pad=1, group=2)\n",
    "    n.pool5 = max_pool(n.relu5, 3, stride=2)\n",
    "    n.fc6, n.relu6 = fc_relu(n.pool5, 4096)\n",
    "    n.drop6 = L.Dropout(n.relu6, in_place=True)\n",
    "    n.fc7, n.relu7 = fc_relu(n.drop6, 4096)\n",
    "    n.drop7 = L.Dropout(n.relu7, in_place=True)\n",
    "    n.score = L.InnerProduct(n.drop7, num_output=labels.size)\n",
    "    \n",
    "    # Changed loss function\n",
    "    n.loss = L.SigmoidCrossEntropyLoss(n.score, n.label)\n",
    "    \n",
    "    return str(n.to_proto())"
   ]
  },
  {
   "cell_type": "markdown",
   "metadata": {},
   "source": [
    "### Write nets and solver files"
   ]
  },
  {
   "cell_type": "code",
   "execution_count": 12,
   "metadata": {
    "collapsed": false
   },
   "outputs": [],
   "source": [
    "workdir = os.path.join('/models/ntb/', SUB_DIR)\n",
    "if not os.path.isdir(workdir):\n",
    "    os.makedirs(workdir)\n",
    "snapshotsdir = os.path.join(workdir, 'snapshots')\n",
    "if not os.path.isdir(snapshotsdir):\n",
    "    os.makedirs(snapshotsdir)\n",
    "\n",
    "solverprototxt = tools.CaffeSolver(\n",
    "    trainnet_prototxt_path=os.path.join(workdir, \"trainnet.prototxt\"),\n",
    "    testnet_prototxt_path=os.path.join(workdir, \"valnet.prototxt\"),\n",
    ")\n",
    "solverprototxt.sp['base_lr'] = \"0.0001\"\n",
    "solverprototxt.sp['display'] = \"1\"\n",
    "solverprototxt.sp['snapshot'] = \"200\"\n",
    "solverprototxt.sp['lr_policy'] = '\"fixed\"'\n",
    "solverprototxt.sp['power'] = \"0.5\"\n",
    "solverprototxt.sp['snapshot_prefix'] = '\"{}\"'.format(os.path.join(snapshotsdir, 'snapshot'))\n",
    "solverprototxt.write(os.path.join(workdir, 'solver.prototxt'))\n",
    "\n",
    "base_data_layer_params = dict(\n",
    "    batch_size=124,\n",
    "    im_shape=[227, 227],\n",
    "    ntb_root=BASE_DIR,\n",
    "    sub_dir=SUB_DIR,\n",
    "    num_labels=labels.size\n",
    ")\n",
    "# write train net.\n",
    "with open(os.path.join(workdir, 'trainnet.prototxt'), 'w') as f:\n",
    "    data_layer_params = dict(split='train', **base_data_layer_params)\n",
    "    f.write(caffenet_multilabel(data_layer_params))\n",
    "\n",
    "# write validation net.\n",
    "with open(os.path.join(workdir, 'valnet.prototxt'), 'w') as f:\n",
    "    data_layer_params = dict(split='val', **base_data_layer_params)\n",
    "    f.write(caffenet_multilabel(data_layer_params))"
   ]
  },
  {
   "cell_type": "markdown",
   "metadata": {},
   "source": [
    "### Load solver"
   ]
  },
  {
   "cell_type": "code",
   "execution_count": 10,
   "metadata": {
    "collapsed": false
   },
   "outputs": [
    {
     "name": "stdout",
     "output_type": "stream",
     "text": [
      "BatchLoader initialized with 94241 images\n",
      "NTBDataLayer initialized for sub_dir: ft_sigmoid_noaug, split: train, with bs: 124, im_shape: [227, 227], num_labels: 41.\n",
      "BatchLoader initialized with 34337 images\n",
      "NTBDataLayer initialized for sub_dir: ft_sigmoid_noaug, split: val, with bs: 124, im_shape: [227, 227], num_labels: 41.\n"
     ]
    }
   ],
   "source": [
    "solver = caffe.SGDSolver(os.path.join(workdir, 'solver.prototxt'))"
   ]
  },
  {
   "cell_type": "code",
   "execution_count": 7,
   "metadata": {
    "collapsed": true
   },
   "outputs": [],
   "source": [
    "# Start new training\n",
    "# solver.net.copy_from('/models/caffenet/bvlc_reference_caffenet.caffemodel')"
   ]
  },
  {
   "cell_type": "markdown",
   "metadata": {},
   "source": [
    "### Restore from snapshot"
   ]
  },
  {
   "cell_type": "code",
   "execution_count": 11,
   "metadata": {
    "collapsed": false
   },
   "outputs": [
    {
     "name": "stdout",
     "output_type": "stream",
     "text": [
      "snapshot_iter_852.solverstate\n"
     ]
    }
   ],
   "source": [
    "for snapshot in sorted(os.listdir(snapshotsdir)):\n",
    "    if snapshot.endswith('solverstate'):\n",
    "        print snapshot"
   ]
  },
  {
   "cell_type": "code",
   "execution_count": 12,
   "metadata": {
    "collapsed": false
   },
   "outputs": [],
   "source": [
    "solver.restore(os.path.join(snapshotsdir, 'snapshot_iter_852.solverstate'))"
   ]
  },
  {
   "cell_type": "code",
   "execution_count": 13,
   "metadata": {
    "collapsed": true
   },
   "outputs": [],
   "source": [
    "solver.test_nets[0].share_with(solver.net)\n",
    "solver.step(1)"
   ]
  },
  {
   "cell_type": "markdown",
   "metadata": {},
   "source": [
    "Check images and labels"
   ]
  },
  {
   "cell_type": "code",
   "execution_count": 13,
   "metadata": {
    "collapsed": false
   },
   "outputs": [],
   "source": [
    "# transformer = tools.SimpleTransformer()\n",
    "# image_index = 2\n",
    "# pyplot.figure()\n",
    "# pyplot.imshow(transformer.deprocess(copy(solver.net.blobs['data'].data[image_index, ...])))\n",
    "# gtlist = solver.net.blobs['label'].data[image_index, ...].astype(np.int)\n",
    "# pyplot.title('GT: {}'.format(labels[np.where(gtlist)]))\n",
    "# pyplot.axis('off');"
   ]
  },
  {
   "cell_type": "markdown",
   "metadata": {},
   "source": [
    "### Train network"
   ]
  },
  {
   "cell_type": "code",
   "execution_count": 12,
   "metadata": {
    "collapsed": true
   },
   "outputs": [],
   "source": [
    "# Use hammind distance to check accuracy\n",
    "\n",
    "def hamming_distance(gt, est):\n",
    "    return sum([1 for (g, e) in zip(gt, est) if g == e]) / float(len(gt))\n",
    "\n",
    "def check_accuracy(net, num_batches, batch_size = 128):\n",
    "    acc = 0.0\n",
    "    for t in range(num_batches):\n",
    "        net.forward()\n",
    "        gts = net.blobs['label'].data\n",
    "        ests = net.blobs['score'].data > 0\n",
    "        for gt, est in zip(gts, ests): #for each ground truth and estimated label vector\n",
    "            acc += hamming_distance(gt, est)\n",
    "    return acc / (num_batches * batch_size)"
   ]
  },
  {
   "cell_type": "code",
   "execution_count": 9,
   "metadata": {
    "collapsed": false
   },
   "outputs": [],
   "source": [
    "def train():\n",
    "    for itt in range(10):\n",
    "        solver.step(100)\n",
    "        print 'itt:{:3d}'.format((itt + 1) * 100), 'accuracy:{0:.4f}'.format(check_accuracy(solver.test_nets[0], 50))"
   ]
  },
  {
   "cell_type": "code",
   "execution_count": null,
   "metadata": {
    "collapsed": false
   },
   "outputs": [],
   "source": [
    "%time train()"
   ]
  },
  {
   "cell_type": "code",
   "execution_count": 29,
   "metadata": {
    "collapsed": false
   },
   "outputs": [
    {
     "name": "stdout",
     "output_type": "stream",
     "text": [
      "CPU times: user 1min 2s, sys: 21.1 s, total: 1min 23s\n",
      "Wall time: 4min 44s\n"
     ]
    }
   ],
   "source": [
    "%time solver.step(50)"
   ]
  },
  {
   "cell_type": "code",
   "execution_count": null,
   "metadata": {
    "collapsed": false
   },
   "outputs": [],
   "source": [
    "def check_baseline_accuracy(net, num_batches, batch_size = 128):\n",
    "    acc = 0.0\n",
    "    for t in range(num_batches):\n",
    "        net.forward()\n",
    "        gts = net.blobs['label'].data\n",
    "        ests = np.zeros((batch_size, len(gts)))\n",
    "        for gt, est in zip(gts, ests): #for each ground truth and estimated label vector\n",
    "            acc += hamming_distance(gt, est)\n",
    "    return acc / (num_batches * batch_size)\n",
    "\n",
    "print 'Baseline accuracy:{0:.4f}'.format(check_baseline_accuracy(solver.test_nets[0], 5823/128))"
   ]
  },
  {
   "cell_type": "markdown",
   "metadata": {},
   "source": [
    "### Look at some prediction results"
   ]
  },
  {
   "cell_type": "code",
   "execution_count": 15,
   "metadata": {
    "collapsed": false
   },
   "outputs": [],
   "source": [
    "test_net = solver.test_nets[0]\n",
    "for image_index in range(100):\n",
    "    gtlist = test_net.blobs['label'].data[image_index, ...].astype(np.int)\n",
    "    estlist = test_net.blobs['score'].data[image_index, ...] > 0\n",
    "    if np.where(estlist)[0].any():\n",
    "        plt.figure()\n",
    "        plt.imshow(transformer.deprocess(copy(test_net.blobs['data'].data[image_index, ...])))\n",
    "        plt.title('GT: {} \\n EST: {}'.format(labels[np.where(gtlist)], labels[np.where(estlist)]))\n",
    "        plt.axis('off')"
   ]
  },
  {
   "cell_type": "markdown",
   "metadata": {},
   "source": [
    "### Test network"
   ]
  },
  {
   "cell_type": "code",
   "execution_count": 20,
   "metadata": {
    "collapsed": false
   },
   "outputs": [],
   "source": [
    "net = caffe.Net(\n",
    "    os.path.join(workdir, 'testnet.prototxt'),\n",
    "    os.path.join(workdir, 'snapshots', 'snapshot_iter_852.caffemodel'),\n",
    "    caffe.TEST\n",
    ")\n",
    "transformer = tools.SimpleTransformer()"
   ]
  },
  {
   "cell_type": "code",
   "execution_count": 43,
   "metadata": {
    "collapsed": true
   },
   "outputs": [],
   "source": [
    "def test_random_image(label):\n",
    "    index = random.choice(test[label])\n",
    "    image = caffe.io.load_image(image_path(db.metadata[index]))\n",
    "    image = scipy.misc.imresize(image, [227, 227])\n",
    "    \n",
    "    net.blobs['data'].data[...][0] = transformer.preprocess(image)\n",
    "    net.forward()\n",
    "    \n",
    "    output_prob = net.blobs['score'].data[0]\n",
    "    top_inds = output_prob.argsort()[::-1][:3]\n",
    "    top_inds = top_inds[np.where(output_prob[top_inds] > -1)]\n",
    "    print zip(output_prob[top_inds], labels[top_inds])\n",
    "    print index\n",
    "    plt.imshow(image)\n",
    "    plt.axis('off')"
   ]
  },
  {
   "cell_type": "code",
   "execution_count": 24,
   "metadata": {
    "collapsed": false
   },
   "outputs": [],
   "source": [
    "def test_image(image_index, top=3):\n",
    "    image = caffe.io.load_image(image_path(db.metadata[image_index]))\n",
    "    image = scipy.misc.imresize(image, [227, 227])\n",
    "    net.blobs['data'].data[...][0] = transformer.preprocess(image)\n",
    "    net.forward()\n",
    "    \n",
    "    output_score = net.blobs['score'].data[0]\n",
    "    top_inds = output_score.argsort()[::-1][:top]\n",
    "    predicted = labels[top_inds]\n",
    "    groud_truth = np.asarray(list({ntb_to_label[ntb_tag] for ntb_tag in db.metadata[image_index]['tags'] if ntb_tag in ntb_to_label}))\n",
    "    \n",
    "    true_positives = np.intersect1d(predicted, groud_truth)\n",
    "    print predicted, groud_truth, true_positives\n",
    "    presision = float(true_positives.size) / predicted.size\n",
    "    recall = float(true_positives.size) / groud_truth.size\n",
    "    return presision, recall"
   ]
  },
  {
   "cell_type": "code",
   "execution_count": 15,
   "metadata": {
    "collapsed": false
   },
   "outputs": [],
   "source": [
    "def get_image_scores(image_index):\n",
    "    image = caffe.io.load_image(image_path(db.metadata[image_index]))\n",
    "    image = scipy.misc.imresize(image, [227, 227])\n",
    "    net.blobs['data'].data[...][0] = transformer.preprocess(image)\n",
    "    net.forward() \n",
    "    return net.blobs['score'].data[0]"
   ]
  },
  {
   "cell_type": "code",
   "execution_count": null,
   "metadata": {
    "collapsed": true
   },
   "outputs": [],
   "source": [
    "# find scores for each image\n",
    "# for each category, sort images by score, return top N\n",
    "# Calculate presision/recall rate\n",
    "# repeat for different N\n",
    "# plot P/R curve\n",
    "# Calculate AP"
   ]
  },
  {
   "cell_type": "code",
   "execution_count": null,
   "metadata": {
    "collapsed": false
   },
   "outputs": [],
   "source": [
    "scores = {index: get_image_scores(index) for index in itertools.chain.from_iterable(test.itervalues())}"
   ]
  },
  {
   "cell_type": "code",
   "execution_count": 22,
   "metadata": {
    "collapsed": false
   },
   "outputs": [
    {
     "name": "stdout",
     "output_type": "stream",
     "text": [
      "[-6.92730761 -6.54132843 -8.49406528 -5.31823874 -3.20384955 -5.92857695\n",
      " -8.6828022  -7.87730742 -4.89860153 -5.80715466 -5.4979887  -7.60442591\n",
      " -7.77854729 -4.48738527 -6.7095933  -3.67860961 -5.78794336 -8.93734837\n",
      " -7.28200197 -8.53326797 -9.12788677 -3.80267429 -1.77527356 -7.23074007\n",
      " -8.39158535 -3.0173347  -8.09029865 -4.85912466 -7.43769836 -6.81284952\n",
      " -0.7086969   0.87065947 -7.85857344 -6.26000738 -6.05326843 -3.9750104\n",
      " -7.54657555 -8.82148075 -3.29111123 -7.47988272 -2.08657885] ['harbour' 'running' 'bridge']\n"
     ]
    }
   ],
   "source": [
    "image0 = caffe.io.load_image(image_path(db.metadata[test['skiing'][0]]))\n",
    "image0 = scipy.misc.imresize(image0, [227, 227])\n",
    "net.blobs['data'].data[...][0] = transformer.preprocess(image0)\n",
    "image1 = caffe.io.load_image(image_path(db.metadata[test['skiing'][1]]))\n",
    "image1 = scipy.misc.imresize(image1, [227, 227])\n",
    "net.blobs['data'].data[...][1] = transformer.preprocess(image1)\n",
    "net.forward() \n",
    "print net.blobs['score'].data[0], labels[net.blobs['score'].data[1].argsort()[:3]]"
   ]
  },
  {
   "cell_type": "code",
   "execution_count": 82,
   "metadata": {
    "collapsed": true
   },
   "outputs": [],
   "source": [
    "def get_scores(dataset):\n",
    "    def grouper(iterable, n, fillvalue=None):\n",
    "        args = [iter(iterable)] * n\n",
    "        return itertools.izip_longest(*args, fillvalue=fillvalue)\n",
    "    def predict_chunk(chunk):\n",
    "        for i, index in enumerate(chunk):\n",
    "            image = caffe.io.load_image(image_path(db.metadata[index]))\n",
    "            image = scipy.misc.imresize(image, [227, 227])\n",
    "            net.blobs['data'].data[...][i] = transformer.preprocess(image)\n",
    "        net.forward()\n",
    "    def get_chunk_scores(chunk):\n",
    "        res = {}\n",
    "        for i, index in enumerate(chunk):\n",
    "            res[index] = net.blobs['score'].data[i]\n",
    "        return res\n",
    "    \n",
    "    image_indexes = itertools.chain.from_iterable(dataset.itervalues())\n",
    "    scores = {}\n",
    "    for i, chunk in enumerate(grouper(image_indexes, 100)):\n",
    "        chunk = filter(None, chunk)\n",
    "        predict_chunk(chunk)\n",
    "        chunk_scores = get_chunk_scores(chunk)\n",
    "        scores.update(chunk_scores)\n",
    "        if i % 50 == 0:\n",
    "            print \"Chunk\", i, \"finised\"\n",
    "    return scores"
   ]
  },
  {
   "cell_type": "code",
   "execution_count": null,
   "metadata": {
    "collapsed": false
   },
   "outputs": [],
   "source": [
    "%time scores = get_scores(test)"
   ]
  },
  {
   "cell_type": "code",
   "execution_count": 84,
   "metadata": {
    "collapsed": true
   },
   "outputs": [],
   "source": [
    "_, _, small_test = train_val_test_split(test)"
   ]
  },
  {
   "cell_type": "code",
   "execution_count": 247,
   "metadata": {
    "collapsed": false
   },
   "outputs": [],
   "source": [
    "def get_scores(dataset):\n",
    "    def predict_chunk(chunk):\n",
    "        for i, index in enumerate(chunk):\n",
    "            image = caffe.io.load_image(image_path(db.metadata[index]))\n",
    "            image = scipy.misc.imresize(image, [227, 227])\n",
    "            net.blobs['data'].data[...][i] = transformer.preprocess(image)\n",
    "        net.forward()\n",
    "    def get_chunk_scores(chunk):\n",
    "        res = []\n",
    "        for i, index in enumerate(chunk):\n",
    "            row = list()\n",
    "            row.insert(0, index)\n",
    "            yield (index,) + tuple(net.blobs['score'].data[i])\n",
    "    \n",
    "    image_indexes = np.concatenate(dataset.values())\n",
    "    chunks_num = int(ceil(image_indexes.size/100.0))\n",
    "    scores = []\n",
    "    print \"Going to process\", chunks_num, \"chunks\"\n",
    "    for i, chunk in enumerate(np.array_split(image_indexes, chunks_num)):\n",
    "        predict_chunk(chunk)\n",
    "        scores.extend(get_chunk_scores(chunk))\n",
    "        if i % 50 == 0:\n",
    "            print \"Chunk\", i, \"finised\"\n",
    "\n",
    "    dtype = [(label, 'f4') for label in labels]\n",
    "    dtype.insert(0, ('idx', 'S8'))\n",
    "    return np.array(scores, dtype=dtype)"
   ]
  },
  {
   "cell_type": "code",
   "execution_count": 368,
   "metadata": {
    "collapsed": false
   },
   "outputs": [
    {
     "name": "stdout",
     "output_type": "stream",
     "text": [
      "Going to process 359 chunks\n",
      "Chunk 0 finised\n",
      "Chunk 50 finised\n",
      "Chunk 100 finised\n",
      "Chunk 150 finised\n",
      "Chunk 200 finised\n",
      "Chunk 250 finised\n",
      "Chunk 300 finised\n",
      "Chunk 350 finised\n",
      "CPU times: user 6min 35s, sys: 56.5 s, total: 7min 31s\n",
      "Wall time: 19min 58s\n"
     ]
    }
   ],
   "source": [
    "%time scores = get_scores(test)"
   ]
  },
  {
   "cell_type": "code",
   "execution_count": 424,
   "metadata": {
    "collapsed": false
   },
   "outputs": [],
   "source": [
    "#labels[scores[scores['idx'] =='tb16a096'][labels].copy().view('f4').argsort()]"
   ]
  },
  {
   "cell_type": "code",
   "execution_count": 382,
   "metadata": {
    "collapsed": true
   },
   "outputs": [],
   "source": [
    "def get_label_curve(scores, label):\n",
    "    ground_truth_ntb = {im['filename'] for ntb_tag in label_to_ntb[label] for im in db.by_tag[ntb_tag]}\n",
    "    ground_truth = ground_truth_ntb.intersection(set(scores['idx']))\n",
    "    sorted_images = np.sort(scores, order=[label], axis=0)[['idx']][::-1].copy().view('S8')\n",
    "    res = []\n",
    "    predicted_true = 0\n",
    "    true_positive = 0\n",
    "    for index in sorted_images:\n",
    "        predicted_true += 1\n",
    "        if index in ground_truth:\n",
    "            true_positive += 1\n",
    "        p = float(true_positive) / predicted_true\n",
    "        r = float(true_positive) / len(ground_truth)\n",
    "        res.append((p, r))\n",
    "    return np.array(res, dtype=[('presision', 'f4'), ('recall', 'f4')])"
   ]
  },
  {
   "cell_type": "code",
   "execution_count": 386,
   "metadata": {
    "collapsed": true
   },
   "outputs": [],
   "source": [
    "def get_curves(scores):\n",
    "    curves = {}\n",
    "    for label in labels:\n",
    "        curves[label] = get_label_curve(scores, label)\n",
    "    return curves"
   ]
  },
  {
   "cell_type": "code",
   "execution_count": 387,
   "metadata": {
    "collapsed": false
   },
   "outputs": [],
   "source": [
    "curves = get_curves(scores)"
   ]
  },
  {
   "cell_type": "code",
   "execution_count": 428,
   "metadata": {
    "collapsed": false
   },
   "outputs": [
    {
     "data": {
      "text/plain": [
       "<matplotlib.axes._subplots.AxesSubplot at 0x7f884fba9250>"
      ]
     },
     "execution_count": 428,
     "metadata": {},
     "output_type": "execute_result"
    },
    {
     "data": {
      "image/png": "[encoded data removed]",
      "text/plain": [
       "<matplotlib.figure.Figure at 0x7f884fb2d390>"
      ]
     },
     "metadata": {},
     "output_type": "display_data"
    }
   ],
   "source": [
    "pandas.DataFrame.from_records(curves['skating']).plot(x='recall', y='presision')"
   ]
  },
  {
   "cell_type": "code",
   "execution_count": 408,
   "metadata": {
    "collapsed": true
   },
   "outputs": [],
   "source": [
    "def get_average_presision(curves):\n",
    "    recall_range = [0.0, 0.1, 0.2, 0.3, 0.4, 0.5, 0.6, 0.7, 0.8, 0.9, 1.0]\n",
    "    res = {}\n",
    "    for label, label_curve in curves.iteritems():\n",
    "        s = 0\n",
    "        for recall in recall_range:\n",
    "            s += label_curve[label_curve['recall'] >= recall]['presision'].max()\n",
    "        res[label] = s / len(recall_range)\n",
    "    return res"
   ]
  },
  {
   "cell_type": "code",
   "execution_count": 412,
   "metadata": {
    "collapsed": false
   },
   "outputs": [],
   "source": [
    "average_presision = get_average_presision(curves)"
   ]
  },
  {
   "cell_type": "code",
   "execution_count": 417,
   "metadata": {
    "collapsed": false
   },
   "outputs": [
    {
     "data": {
      "image/png": "[encoded data removed]",
      "text/plain": [
       "<matplotlib.figure.Figure at 0x7f885c9e8210>"
      ]
     },
     "metadata": {},
     "output_type": "display_data"
    }
   ],
   "source": [
    "df = pandas.DataFrame.from_dict(OrderedDict(sorted(average_presision.items(), key=itemgetter(1), reverse=True)), orient='index')\n",
    "plot = df.plot(kind='bar', legend=False)"
   ]
  }
 ],
 "metadata": {
  "kernelspec": {
   "display_name": "Python 2",
   "language": "python",
   "name": "python2"
  },
  "language_info": {
   "codemirror_mode": {
    "name": "ipython",
    "version": 2
   },
   "file_extension": ".py",
   "mimetype": "text/x-python",
   "name": "python",
   "nbconvert_exporter": "python",
   "pygments_lexer": "ipython2",
   "version": "2.7.12"
  }
 },
 "nbformat": 4,
 "nbformat_minor": 2
}
