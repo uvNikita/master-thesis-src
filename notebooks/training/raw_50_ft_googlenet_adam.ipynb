{
 "cells": [
  {
   "cell_type": "code",
   "execution_count": 1,
   "metadata": {
    "collapsed": false,
    "deletable": true,
    "editable": true
   },
   "outputs": [],
   "source": [
    "import os\n",
    "import random\n",
    "import numpy as np\n",
    "import matplotlib.pyplot as plt\n",
    "import caffe\n",
    "import itertools as it\n",
    "import pandas as pd\n",
    "import cv2\n",
    "import scipy\n",
    "import seaborn\n",
    "import lmdb\n",
    "import shutil\n",
    "\n",
    "from caffe.proto import caffe_pb2\n",
    "from collections import defaultdict\n",
    "from math import ceil\n",
    "from copy import copy\n",
    "from collections import OrderedDict\n",
    "from operator import itemgetter, attrgetter\n",
    "from matplotlib import pyplot\n",
    "from scipy import ndimage as ndimage\n",
    "from os.path import join as pjoin\n",
    "\n",
    "from caffe import layers as L\n",
    "from caffe import params as P\n",
    "import tools\n",
    "\n",
    "from ntb.layer.data import Transformer\n",
    "from ntb.db import *\n",
    "\n",
    "from training.util import *\n",
    "\n",
    "%matplotlib inline\n",
    "pyplot.rcParams['figure.figsize'] = (10, 6)"
   ]
  },
  {
   "cell_type": "code",
   "execution_count": 2,
   "metadata": {
    "collapsed": false,
    "deletable": true,
    "editable": true
   },
   "outputs": [],
   "source": [
    "NET_NAME = \"raw_50_ft_googlenet_adam\"\n",
    "NET_DIR = pjoin(NETS_DIR, NET_NAME)\n",
    "\n",
    "DATA_DIR = pjoin(NET_DIR, 'data')\n",
    "SNAPSHOTS_DIR = pjoin(NET_DIR, 'snapshots')\n",
    "LOGS_DIR = pjoin(NET_DIR, 'logs')\n",
    "DATASET_DIR = pjoin(DATASETS_DIR, 'raw_50')\n",
    "LABELS = np.load(pjoin(DATASET_DIR, 'labels.np'))"
   ]
  },
  {
   "cell_type": "markdown",
   "metadata": {
    "deletable": true,
    "editable": true
   },
   "source": [
    "### Create all folders"
   ]
  },
  {
   "cell_type": "code",
   "execution_count": 3,
   "metadata": {
    "collapsed": true,
    "deletable": true,
    "editable": true
   },
   "outputs": [],
   "source": [
    "for net_dir in (DATA_DIR, SNAPSHOTS_DIR, LOGS_DIR):\n",
    "    if not os.path.isdir(net_dir):\n",
    "        os.makedirs(net_dir)"
   ]
  },
  {
   "cell_type": "markdown",
   "metadata": {
    "deletable": true,
    "editable": true
   },
   "source": [
    "# Training"
   ]
  },
  {
   "cell_type": "code",
   "execution_count": 3,
   "metadata": {
    "collapsed": true,
    "deletable": true,
    "editable": true
   },
   "outputs": [],
   "source": [
    "caffe.set_mode_gpu()"
   ]
  },
  {
   "cell_type": "markdown",
   "metadata": {
    "deletable": true,
    "editable": true
   },
   "source": [
    "### Setup logging"
   ]
  },
  {
   "cell_type": "code",
   "execution_count": 4,
   "metadata": {
    "collapsed": false,
    "deletable": true,
    "editable": true
   },
   "outputs": [],
   "source": [
    "logs_file_path = pjoin(LOGS_DIR, 'train.log')\n",
    "os.environ['GLOG_log_dir'] = LOGS_DIR\n",
    "os.environ['GLOG_logbufsecs'] = \"1\"\n",
    "caffe.set_log_info(logs_file_path)"
   ]
  },
  {
   "cell_type": "markdown",
   "metadata": {
    "deletable": true,
    "editable": true
   },
   "source": [
    "### Write nets and solver files"
   ]
  },
  {
   "cell_type": "code",
   "execution_count": 5,
   "metadata": {
    "collapsed": false,
    "deletable": true,
    "editable": true
   },
   "outputs": [],
   "source": [
    "solverprototxt = tools.CaffeSolver(\n",
    "    trainnet_prototxt_path=os.path.join(NET_DIR, \"trainnet.prototxt\"),\n",
    "    testnet_prototxt_path=os.path.join(NET_DIR, \"valnet.prototxt\"),\n",
    ")\n",
    "solverprototxt.sp['solver_mode'] = 'GPU'\n",
    "solverprototxt.sp['base_lr'] = \"0.0001\"\n",
    "solverprototxt.sp['display'] = \"1\"\n",
    "solverprototxt.sp['snapshot'] = \"500\"\n",
    "solverprototxt.sp['lr_policy'] = '\"fixed\"'\n",
    "solverprototxt.sp['test_interval'] = \"200\"\n",
    "solverprototxt.sp['test_iter'] = \"8600\"\n",
    "solverprototxt.sp['max_iter'] = \"40000\"\n",
    "solverprototxt.sp['momentum'] = \"0.9\"\n",
    "solverprototxt.sp['snapshot_prefix'] = '\"{}\"'.format(os.path.join(SNAPSHOTS_DIR, 'snapshot'))\n",
    "solverprototxt.write(os.path.join(NET_DIR, 'solver.prototxt'))"
   ]
  },
  {
   "cell_type": "markdown",
   "metadata": {
    "deletable": true,
    "editable": true
   },
   "source": [
    "### Load solver"
   ]
  },
  {
   "cell_type": "code",
   "execution_count": 6,
   "metadata": {
    "collapsed": false,
    "deletable": true,
    "editable": true
   },
   "outputs": [],
   "source": [
    "solver = caffe.AdamSolver(os.path.join(NET_DIR, 'solver.prototxt'))"
   ]
  },
  {
   "cell_type": "markdown",
   "metadata": {
    "deletable": true,
    "editable": true
   },
   "source": [
    "### Start new training"
   ]
  },
  {
   "cell_type": "code",
   "execution_count": 8,
   "metadata": {
    "collapsed": false,
    "deletable": true,
    "editable": true
   },
   "outputs": [],
   "source": [
    "solver.net.copy_from('/storage/models/googlenet/bvlc_googlenet.caffemodel')\n",
    "# solver.test_nets[0].share_with(solver.net)"
   ]
  },
  {
   "cell_type": "markdown",
   "metadata": {
    "deletable": true,
    "editable": true
   },
   "source": [
    "### Restore from snapshot"
   ]
  },
  {
   "cell_type": "code",
   "execution_count": 8,
   "metadata": {
    "collapsed": false,
    "deletable": true,
    "editable": true
   },
   "outputs": [
    {
     "name": "stdout",
     "output_type": "stream",
     "text": [
      "snapshot_iter_100.solverstate\n",
      "snapshot_iter_1000.solverstate\n",
      "snapshot_iter_10000.solverstate\n",
      "snapshot_iter_1500.solverstate\n",
      "snapshot_iter_2000.solverstate\n",
      "snapshot_iter_2500.solverstate\n",
      "snapshot_iter_3000.solverstate\n",
      "snapshot_iter_3500.solverstate\n",
      "snapshot_iter_4000.solverstate\n",
      "snapshot_iter_4500.solverstate\n",
      "snapshot_iter_500.solverstate\n",
      "snapshot_iter_5000.solverstate\n",
      "snapshot_iter_5500.solverstate\n",
      "snapshot_iter_6000.solverstate\n",
      "snapshot_iter_6500.solverstate\n",
      "snapshot_iter_7000.solverstate\n",
      "snapshot_iter_7500.solverstate\n",
      "snapshot_iter_8000.solverstate\n",
      "snapshot_iter_8500.solverstate\n",
      "snapshot_iter_9000.solverstate\n",
      "snapshot_iter_9500.solverstate\n"
     ]
    }
   ],
   "source": [
    "for snapshot in sorted(os.listdir(SNAPSHOTS_DIR)):\n",
    "    if snapshot.endswith('solverstate'):\n",
    "        print snapshot"
   ]
  },
  {
   "cell_type": "code",
   "execution_count": 7,
   "metadata": {
    "collapsed": false,
    "deletable": true,
    "editable": true
   },
   "outputs": [],
   "source": [
    "solver.restore(os.path.join(SNAPSHOTS_DIR, 'snapshot_iter_30000.solverstate'))\n",
    "solver.test_nets[0].share_with(solver.net)"
   ]
  },
  {
   "cell_type": "markdown",
   "metadata": {
    "deletable": true,
    "editable": true
   },
   "source": [
    "### Check images and labels"
   ]
  },
  {
   "cell_type": "code",
   "execution_count": 37,
   "metadata": {
    "collapsed": false,
    "deletable": true,
    "editable": true
   },
   "outputs": [],
   "source": [
    "# transformer = Transformer(shape=[227, 227])\n",
    "# image_index = 3\n",
    "# pyplot.figure()\n",
    "# pyplot.imshow(transformer.deprocess(copy(solver.net.blobs['data'].data[image_index, ...])))\n",
    "# gt = solver.net.blobs['label'].data[image_index, ...].astype(np.int)\n",
    "# pyplot.title('GT: {}'.format(labels[gt]))\n",
    "# pyplot.axis('off');"
   ]
  },
  {
   "cell_type": "markdown",
   "metadata": {
    "deletable": true,
    "editable": true
   },
   "source": [
    "### Train network"
   ]
  },
  {
   "cell_type": "code",
   "execution_count": 8,
   "metadata": {
    "collapsed": false,
    "deletable": true,
    "editable": true
   },
   "outputs": [
    {
     "name": "stdout",
     "output_type": "stream",
     "text": [
      "CPU times: user 1h 37min 48s, sys: 2h 18min 5s, total: 3h 55min 53s\n",
      "Wall time: 2h 52min 26s\n"
     ]
    }
   ],
   "source": [
    "%%time\n",
    "solver.solve()"
   ]
  },
  {
   "cell_type": "markdown",
   "metadata": {
    "deletable": true,
    "editable": true
   },
   "source": [
    "### Rename log file"
   ]
  },
  {
   "cell_type": "code",
   "execution_count": 13,
   "metadata": {
    "collapsed": false,
    "deletable": true,
    "editable": true
   },
   "outputs": [
    {
     "name": "stdout",
     "output_type": "stream",
     "text": [
      "/storage/nets/raw_50_ft_googlenet_adam/logs/train.log20170423-120901.1847 -> /storage/nets/raw_50_ft_googlenet_adam/logs/train.log\n"
     ]
    }
   ],
   "source": [
    "newest_log = pjoin(LOGS_DIR, max(os.listdir(LOGS_DIR), key=lambda log:  os.path.getctime(pjoin(LOGS_DIR, log))))\n",
    "print newest_log, '->', logs_file_path\n",
    "shutil.copyfile(newest_log, logs_file_path)\n",
    "!sed -i \"s/ (.*),/,/\" $logs_file_path"
   ]
  },
  {
   "cell_type": "markdown",
   "metadata": {
    "deletable": true,
    "editable": true
   },
   "source": [
    "### Look at some prediction results"
   ]
  },
  {
   "cell_type": "code",
   "execution_count": null,
   "metadata": {
    "collapsed": false,
    "deletable": true,
    "editable": true
   },
   "outputs": [],
   "source": [
    "test_net = solver.test_nets[0]\n",
    "for image_index in range(10):\n",
    "    gtlist = test_net.blobs['label'].data[image_index, ...].astype(np.int)\n",
    "    estlist = test_net.blobs['score'].data[image_index, ...] > 0\n",
    "    if np.where(estlist)[0].any():\n",
    "        plt.figure()\n",
    "        plt.imshow(transformer.deprocess(copy(test_net.blobs['data'].data[image_index, ...])))\n",
    "        plt.title('GT: {} \\n EST: {}'.format(labels[np.where(gtlist)], labels[np.where(estlist)]))\n",
    "        plt.axis('off')"
   ]
  }
 ],
 "metadata": {
  "kernelspec": {
   "display_name": "Python 2",
   "language": "python",
   "name": "python2"
  },
  "language_info": {
   "codemirror_mode": {
    "name": "ipython",
    "version": 2
   },
   "file_extension": ".py",
   "mimetype": "text/x-python",
   "name": "python",
   "nbconvert_exporter": "python",
   "pygments_lexer": "ipython2",
   "version": "2.7.12"
  }
 },
 "nbformat": 4,
 "nbformat_minor": 2
}
