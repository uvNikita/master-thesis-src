{
 "cells": [
  {
   "cell_type": "code",
   "execution_count": 1,
   "metadata": {
    "collapsed": false,
    "deletable": true,
    "editable": true
   },
   "outputs": [],
   "source": [
    "import os\n",
    "import random\n",
    "import numpy as np\n",
    "import matplotlib.pyplot as plt\n",
    "import caffe\n",
    "import itertools as it\n",
    "import pandas\n",
    "import cv2\n",
    "import scipy\n",
    "\n",
    "from collections import defaultdict\n",
    "from math import ceil\n",
    "from copy import copy\n",
    "from collections import OrderedDict\n",
    "from operator import itemgetter, attrgetter\n",
    "from matplotlib import pyplot\n",
    "from scipy import ndimage as ndimage\n",
    "from wurlitzer import pipes\n",
    "from os.path import join as pjoin\n",
    "\n",
    "from caffe import layers as L\n",
    "from caffe import params as P\n",
    "import tools\n",
    "\n",
    "from ntb.layer.data import Transformer\n",
    "from ntb.db import *\n",
    "\n",
    "%matplotlib inline\n",
    "pyplot.rcParams['figure.figsize'] = (10, 6)"
   ]
  },
  {
   "cell_type": "code",
   "execution_count": 2,
   "metadata": {
    "collapsed": true,
    "deletable": true,
    "editable": true
   },
   "outputs": [],
   "source": [
    "SUB_DIR = \"ft_sigmoid_noaug_rmportraits_sgd\""
   ]
  },
  {
   "cell_type": "code",
   "execution_count": 3,
   "metadata": {
    "collapsed": true,
    "deletable": true,
    "editable": true
   },
   "outputs": [],
   "source": [
    "db = NTBDB()"
   ]
  },
  {
   "cell_type": "markdown",
   "metadata": {
    "deletable": true,
    "editable": true
   },
   "source": [
    "# Data preparation"
   ]
  },
  {
   "cell_type": "code",
   "execution_count": 5,
   "metadata": {
    "collapsed": false,
    "deletable": true,
    "editable": true
   },
   "outputs": [],
   "source": [
    "label_to_ntb = {\n",
    "    'football': ['footbal', 'football-pitches', 'fotballs'],\n",
    "    'person': ['full-length-portrait', 'portrait', 'persons'],\n",
    "    'skiing': [\n",
    "        'skiing', 'alpine-skiing', 'nordic-skiing', 'biathlon', 'freeskiing', 'freestyle-skiing', 'slalom', 'snowboarding', 'giant-slalom',\n",
    "        'super-g', 'telemark-skiiing', 'downhill-skiing', 'nordic-combined', 'cross-country-skiing', 'ski-jumping', 'ski-orienteering',\n",
    "        'long-distance-ski-races', 'ski-flying', 'relay-races', 'skis-and-ski-poles', 'ski-trips',\n",
    "    ],\n",
    "    'team-handball': ['team-handball'],\n",
    "    'woman': ['women'],\n",
    "    'child': ['children', 'girls', 'boys'],\n",
    "    'skating': ['icehockey', 'skating', 'figure-skating'],\n",
    "    'flag': ['flags'],\n",
    "    'crowd': ['demonstrations', 'supporters', 'crowds'],\n",
    "    'car': ['cars', 'ambulances', 'electric-cars', 'hybrid-cars', 'limousines', 'sports-cars', 'classic-cars', 'police-cars', 'automobile-racing', 'traffic'],\n",
    "    'bicycling': ['bicycle-racing', 'bicycling', 'road-bicycle-racing', 'bicycles', 'cross-country-bicycling'],\n",
    "    'flower': ['flowers', 'bouquet-of-flowers'],\n",
    "    'man': ['men'],\n",
    "    'medal': ['medals'],\n",
    "    'snow': ['snow'],\n",
    "    'hand': ['hands'],\n",
    "    'triumph': ['sign-of-triumph'],\n",
    "    'army': ['soldiers', 'the-armed-forces'],\n",
    "    'boat': ['boats', 'yachting', 'ferries', 'sailboats', 'passenger-ships', 'cruise-ships', 'fishing-boats'],\n",
    "    'norwegian-national-costumes': ['norwegian-national-costumes'],\n",
    "    'landscape': ['landscape'],\n",
    "    'signs': ['signs', 'traffic-signs'],\n",
    "    'running': ['running-[athletics]', 'middle-distance-running', 'long-distance-running'],\n",
    "    'aeroplane': ['aeroplanes'],\n",
    "    'sky': ['sky', 'clouds'],\n",
    "    'firemen': ['firemen'],\n",
    "    'beach-volleyball': ['beach-volleyball'],\n",
    "    'train': ['trains'],\n",
    "    'umbrella': ['umbrellas'],\n",
    "    'swimming': ['swimming-[sports]', 'swimming'],\n",
    "    'dog': ['dogs'],\n",
    "    'bus': ['buses'],\n",
    "    'harbour': ['harbours'],\n",
    "    'park': ['parks', 'forests'],\n",
    "    'bridge': ['bridges'],\n",
    "    'tree': ['trees'],\n",
    "    'shoe': ['shoes'],\n",
    "    'beach': ['beaches'],\n",
    "    'helicopter': ['helicopters', 'rescue-helicopters'],\n",
    "#     'red-carpet': ['red-carpet'],\n",
    "#     'horse': ['horses'],\n",
    "}\n",
    "labels = np.asarray(sorted(label_to_ntb.keys()))\n",
    "assert len(list(it.chain.from_iterable(label_to_ntb.values()))) == len(set(it.chain.from_iterable(label_to_ntb.values()))), \"Dublicates\""
   ]
  },
  {
   "cell_type": "code",
   "execution_count": 14,
   "metadata": {
    "collapsed": false,
    "deletable": true,
    "editable": true
   },
   "outputs": [],
   "source": [
    "ntb_to_label = {ntb_label: label for label, ntb_labels in label_to_ntb.items() for ntb_label in ntb_labels}\n",
    "\n",
    "dataset = {\n",
    "    label: set(it.chain.from_iterable(\n",
    "        map(itemgetter('filename'), db.by_tag[ntb_label]) for ntb_label in ntb_labels\n",
    "    )) for label, ntb_labels in label_to_ntb.items()\n",
    "}"
   ]
  },
  {
   "cell_type": "markdown",
   "metadata": {
    "deletable": true,
    "editable": true
   },
   "source": [
    "### Filtering out portrait pictures:"
   ]
  },
  {
   "cell_type": "code",
   "execution_count": 64,
   "metadata": {
    "collapsed": false,
    "deletable": true,
    "editable": true
   },
   "outputs": [],
   "source": [
    "portrait_tags = {'portrait', u'press-conferences', u'coaches'}\n",
    "include_portrait = {'child', 'hand', 'man', 'woman', 'triumph', 'umbrella', 'person', 'norwegian-national-costumes', 'medal'}\n",
    "exclude_portrait = set(labels) - include_portrait\n",
    "portrait_pics = set(map(itemgetter('filename'), it.chain.from_iterable(db.by_tag[pt] for pt in portrait_tags)))"
   ]
  },
  {
   "cell_type": "code",
   "execution_count": null,
   "metadata": {
    "collapsed": false,
    "deletable": true,
    "editable": true
   },
   "outputs": [],
   "source": [
    "excluded_df = {}\n",
    "for label in dataset:\n",
    "    if label not in exclude_portrait:\n",
    "        excluded_df[label] = \"-\"\n",
    "        continue\n",
    "    before = dataset[label]\n",
    "    after = before - portrait_pics\n",
    "    dataset[label] = after\n",
    "    rate = float(len(before) - len(after))/ len(before)\n",
    "    excluded_df[label] = round(rate * 100, 2)\n",
    "\n",
    "excluded_df = pandas.DataFrame.from_dict(excluded_df, orient='index').rename(index=str, columns={0: 'excluded %'})"
   ]
  },
  {
   "cell_type": "code",
   "execution_count": 56,
   "metadata": {
    "collapsed": false,
    "deletable": true,
    "editable": true
   },
   "outputs": [
    {
     "data": {
      "text/html": [
       "<div>\n",
       "<table border=\"1\" class=\"dataframe\">\n",
       "  <thead>\n",
       "    <tr style=\"text-align: right;\">\n",
       "      <th></th>\n",
       "      <th>excluded %</th>\n",
       "    </tr>\n",
       "  </thead>\n",
       "  <tbody>\n",
       "    <tr>\n",
       "      <th>umbrella</th>\n",
       "      <td>-</td>\n",
       "    </tr>\n",
       "    <tr>\n",
       "      <th>norwegian-national-costumes</th>\n",
       "      <td>-</td>\n",
       "    </tr>\n",
       "    <tr>\n",
       "      <th>triumph</th>\n",
       "      <td>-</td>\n",
       "    </tr>\n",
       "    <tr>\n",
       "      <th>person</th>\n",
       "      <td>-</td>\n",
       "    </tr>\n",
       "    <tr>\n",
       "      <th>man</th>\n",
       "      <td>-</td>\n",
       "    </tr>\n",
       "    <tr>\n",
       "      <th>medal</th>\n",
       "      <td>-</td>\n",
       "    </tr>\n",
       "    <tr>\n",
       "      <th>child</th>\n",
       "      <td>-</td>\n",
       "    </tr>\n",
       "    <tr>\n",
       "      <th>hand</th>\n",
       "      <td>-</td>\n",
       "    </tr>\n",
       "    <tr>\n",
       "      <th>woman</th>\n",
       "      <td>-</td>\n",
       "    </tr>\n",
       "    <tr>\n",
       "      <th>team-handball</th>\n",
       "      <td>22.94</td>\n",
       "    </tr>\n",
       "    <tr>\n",
       "      <th>army</th>\n",
       "      <td>16</td>\n",
       "    </tr>\n",
       "    <tr>\n",
       "      <th>skating</th>\n",
       "      <td>14.3</td>\n",
       "    </tr>\n",
       "    <tr>\n",
       "      <th>skiing</th>\n",
       "      <td>12.93</td>\n",
       "    </tr>\n",
       "    <tr>\n",
       "      <th>bicycling</th>\n",
       "      <td>12.78</td>\n",
       "    </tr>\n",
       "    <tr>\n",
       "      <th>swimming</th>\n",
       "      <td>10.7</td>\n",
       "    </tr>\n",
       "    <tr>\n",
       "      <th>football</th>\n",
       "      <td>10.47</td>\n",
       "    </tr>\n",
       "    <tr>\n",
       "      <th>flag</th>\n",
       "      <td>6.74</td>\n",
       "    </tr>\n",
       "    <tr>\n",
       "      <th>running</th>\n",
       "      <td>6.13</td>\n",
       "    </tr>\n",
       "    <tr>\n",
       "      <th>flower</th>\n",
       "      <td>5.83</td>\n",
       "    </tr>\n",
       "    <tr>\n",
       "      <th>beach-volleyball</th>\n",
       "      <td>5.72</td>\n",
       "    </tr>\n",
       "    <tr>\n",
       "      <th>sky</th>\n",
       "      <td>4.5</td>\n",
       "    </tr>\n",
       "    <tr>\n",
       "      <th>shoe</th>\n",
       "      <td>4.38</td>\n",
       "    </tr>\n",
       "    <tr>\n",
       "      <th>car</th>\n",
       "      <td>3.4</td>\n",
       "    </tr>\n",
       "    <tr>\n",
       "      <th>boat</th>\n",
       "      <td>3.39</td>\n",
       "    </tr>\n",
       "    <tr>\n",
       "      <th>bridge</th>\n",
       "      <td>3.28</td>\n",
       "    </tr>\n",
       "    <tr>\n",
       "      <th>beach</th>\n",
       "      <td>3.15</td>\n",
       "    </tr>\n",
       "    <tr>\n",
       "      <th>train</th>\n",
       "      <td>3.05</td>\n",
       "    </tr>\n",
       "    <tr>\n",
       "      <th>aeroplane</th>\n",
       "      <td>2.21</td>\n",
       "    </tr>\n",
       "    <tr>\n",
       "      <th>park</th>\n",
       "      <td>2.11</td>\n",
       "    </tr>\n",
       "    <tr>\n",
       "      <th>signs</th>\n",
       "      <td>2.07</td>\n",
       "    </tr>\n",
       "    <tr>\n",
       "      <th>bus</th>\n",
       "      <td>1.94</td>\n",
       "    </tr>\n",
       "    <tr>\n",
       "      <th>tree</th>\n",
       "      <td>1.59</td>\n",
       "    </tr>\n",
       "    <tr>\n",
       "      <th>snow</th>\n",
       "      <td>1.54</td>\n",
       "    </tr>\n",
       "    <tr>\n",
       "      <th>crowd</th>\n",
       "      <td>1.38</td>\n",
       "    </tr>\n",
       "    <tr>\n",
       "      <th>dog</th>\n",
       "      <td>1.35</td>\n",
       "    </tr>\n",
       "    <tr>\n",
       "      <th>helicopter</th>\n",
       "      <td>1.08</td>\n",
       "    </tr>\n",
       "    <tr>\n",
       "      <th>harbour</th>\n",
       "      <td>0.73</td>\n",
       "    </tr>\n",
       "    <tr>\n",
       "      <th>firemen</th>\n",
       "      <td>0.17</td>\n",
       "    </tr>\n",
       "    <tr>\n",
       "      <th>landscape</th>\n",
       "      <td>0.09</td>\n",
       "    </tr>\n",
       "  </tbody>\n",
       "</table>\n",
       "</div>"
      ],
      "text/plain": [
       "                            excluded %\n",
       "umbrella                             -\n",
       "norwegian-national-costumes          -\n",
       "triumph                              -\n",
       "person                               -\n",
       "man                                  -\n",
       "medal                                -\n",
       "child                                -\n",
       "hand                                 -\n",
       "woman                                -\n",
       "team-handball                    22.94\n",
       "army                                16\n",
       "skating                           14.3\n",
       "skiing                           12.93\n",
       "bicycling                        12.78\n",
       "swimming                          10.7\n",
       "football                         10.47\n",
       "flag                              6.74\n",
       "running                           6.13\n",
       "flower                            5.83\n",
       "beach-volleyball                  5.72\n",
       "sky                                4.5\n",
       "shoe                              4.38\n",
       "car                                3.4\n",
       "boat                              3.39\n",
       "bridge                            3.28\n",
       "beach                             3.15\n",
       "train                             3.05\n",
       "aeroplane                         2.21\n",
       "park                              2.11\n",
       "signs                             2.07\n",
       "bus                               1.94\n",
       "tree                              1.59\n",
       "snow                              1.54\n",
       "crowd                             1.38\n",
       "dog                               1.35\n",
       "helicopter                        1.08\n",
       "harbour                           0.73\n",
       "firemen                           0.17\n",
       "landscape                         0.09"
      ]
     },
     "execution_count": 56,
     "metadata": {},
     "output_type": "execute_result"
    }
   ],
   "source": [
    "excluded_df.sort_values('excluded %', ascending=False)"
   ]
  },
  {
   "cell_type": "markdown",
   "metadata": {
    "deletable": true,
    "editable": true
   },
   "source": [
    "### Labels distribution"
   ]
  },
  {
   "cell_type": "code",
   "execution_count": 58,
   "metadata": {
    "collapsed": false,
    "deletable": true,
    "editable": true
   },
   "outputs": [],
   "source": [
    "def plot_distribution(data):\n",
    "    pic_num_distribution = {\n",
    "        label: len(imgs) for label, imgs in data.items()\n",
    "    }\n",
    "    data = sorted(pic_num_distribution.items(), key=itemgetter(1), reverse=True)\n",
    "    df = pandas.DataFrame.from_dict(OrderedDict(data), orient='index')\n",
    "    df.plot(kind='bar', legend=False)"
   ]
  },
  {
   "cell_type": "code",
   "execution_count": 59,
   "metadata": {
    "collapsed": false,
    "deletable": true,
    "editable": true
   },
   "outputs": [
    {
     "data": {
      "image/png": "[encoded data removed]",
      "text/plain": [
       "<matplotlib.figure.Figure at 0x7f8684739890>"
      ]
     },
     "metadata": {},
     "output_type": "display_data"
    }
   ],
   "source": [
    "plot_distribution(dataset)"
   ]
  },
  {
   "cell_type": "markdown",
   "metadata": {
    "deletable": true,
    "editable": true
   },
   "source": [
    "### Reducing imblalance"
   ]
  },
  {
   "cell_type": "code",
   "execution_count": 65,
   "metadata": {
    "collapsed": false,
    "deletable": true,
    "editable": true
   },
   "outputs": [],
   "source": [
    "def balance_dataset(dataset, limit=10000):\n",
    "    img_pools = {label: list(imgs) for label, imgs in dataset.items()}\n",
    "    balanced = defaultdict(set)\n",
    "    # shuffle img_pools\n",
    "    for imgs in img_pools.values():\n",
    "            random.shuffle(imgs)\n",
    "    \n",
    "    def insert_image(img):\n",
    "        for label, imgs in dataset.iteritems():\n",
    "            if img in imgs:\n",
    "                balanced[label].add(img)\n",
    "    \n",
    "    # process categories below the limit first\n",
    "    for label, pool in img_pools.iteritems():\n",
    "        if len(pool) > limit:\n",
    "            continue\n",
    "        while pool:\n",
    "            img = pool.pop()\n",
    "            insert_image(img)\n",
    "\n",
    "    to_process = set(dataset.keys())\n",
    "    while to_process:\n",
    "        for label in to_process.copy():\n",
    "            pool = img_pools[label]\n",
    "            if not pool or len(balanced[label]) >= limit:\n",
    "                # finished with this label\n",
    "                to_process.discard(label)\n",
    "                continue\n",
    "            img = random.choice(pool)\n",
    "            insert_image(img)\n",
    "    return dict(balanced)\n",
    "\n",
    "dataset_balanced = balance_dataset(dataset)\n",
    "assert all(\n",
    "    len(imgs - dataset[label]) == 0\n",
    "    for label, imgs in dataset_balanced.items()\n",
    "), \"Some images are not in the right categories\"\n",
    "assert all(\n",
    "    (label in exclude_portrait and img in portrait_pics) or img in dataset_balanced[label]\n",
    "    for img in it.chain.from_iterable(dataset_balanced.values())\n",
    "    for label in filter(None, map(lambda nl: ntb_to_label.get(nl, None), db.metadata[img]['tags']))\n",
    "), \"Check that image is in all categories\""
   ]
  },
  {
   "cell_type": "code",
   "execution_count": 66,
   "metadata": {
    "collapsed": false,
    "deletable": true,
    "editable": true
   },
   "outputs": [
    {
     "data": {
      "image/png": "[encoded data removed]",
      "text/plain": [
       "<matplotlib.figure.Figure at 0x7f868474f750>"
      ]
     },
     "metadata": {},
     "output_type": "display_data"
    }
   ],
   "source": [
    "plot_distribution(dataset_balanced)"
   ]
  },
  {
   "cell_type": "markdown",
   "metadata": {
    "deletable": true,
    "editable": true
   },
   "source": [
    "### Train/Validation/Test dataset split on per category basis"
   ]
  },
  {
   "cell_type": "code",
   "execution_count": 67,
   "metadata": {
    "collapsed": true,
    "deletable": true,
    "editable": true
   },
   "outputs": [],
   "source": [
    "def split_dataset(dataset, ratio):\n",
    "    img_pools = {label: list(imgs) for label, imgs in dataset.items()}\n",
    "    split = defaultdict(set)\n",
    "    # shuffle img_pools\n",
    "    for imgs in img_pools.values():\n",
    "            random.shuffle(imgs)\n",
    "    \n",
    "    def insert_image(img):\n",
    "        for label, imgs in dataset.iteritems():\n",
    "            if img in imgs:\n",
    "                split[label].add(img)\n",
    "    \n",
    "    to_process = set(dataset.keys())\n",
    "    while to_process:\n",
    "        for label in to_process.copy():\n",
    "            pool = img_pools[label]\n",
    "            if not pool or float(len(split[label])) / len(dataset[label]) >= ratio:\n",
    "                # finished with this label\n",
    "                #print label, len(pool), len(balanced[label])\n",
    "                to_process.discard(label)\n",
    "                continue\n",
    "            img = pool.pop()\n",
    "            insert_image(img)\n",
    "    return dict(split), {label: imgs - split[label] for label, imgs in dataset.iteritems()}"
   ]
  },
  {
   "cell_type": "code",
   "execution_count": 68,
   "metadata": {
    "collapsed": false,
    "deletable": true,
    "editable": true
   },
   "outputs": [],
   "source": [
    "train, rest = split_dataset(dataset_balanced, 0.6)\n",
    "val, test = split_dataset(rest, 0.5)\n",
    "assert not set(it.chain.from_iterable(train.values())).intersection(set(it.chain.from_iterable(test.values())))\n",
    "assert not set(it.chain.from_iterable(train.values())).intersection(set(it.chain.from_iterable(val.values())))\n",
    "assert not set(it.chain.from_iterable(val.values())).intersection(set(it.chain.from_iterable(test.values())))"
   ]
  },
  {
   "cell_type": "markdown",
   "metadata": {
    "deletable": true,
    "editable": true
   },
   "source": [
    "### Write sampled dataset to sub directory"
   ]
  },
  {
   "cell_type": "code",
   "execution_count": 69,
   "metadata": {
    "collapsed": true,
    "deletable": true,
    "editable": true
   },
   "outputs": [],
   "source": [
    "data_dir = pjoin(BASE_DIR, 'nets', SUB_DIR, 'data')\n",
    "if not os.path.isdir(data_dir):\n",
    "    os.makedirs(data_dir)\n",
    "\n",
    "def dump_training_data(data, split):\n",
    "    training_data = {}\n",
    "    for label, imgs in data.iteritems():\n",
    "        for index in imgs:\n",
    "            training_data.setdefault(index, {})\n",
    "            if 'folder' not in training_data[index]:\n",
    "                training_data[index]['folder'] = db.metadata[index]['folder']\n",
    "            training_data[index].setdefault('labels', []).append(labels.tolist().index(label))\n",
    "    data_path = pjoin(data_dir, split + '.pickle')\n",
    "    with open(data_path, mode='w') as f:\n",
    "        pickle.dump(training_data, f, protocol=pickle.HIGHEST_PROTOCOL)"
   ]
  },
  {
   "cell_type": "code",
   "execution_count": 70,
   "metadata": {
    "collapsed": false,
    "deletable": true,
    "editable": true
   },
   "outputs": [],
   "source": [
    "dump_training_data(train, 'train')\n",
    "dump_training_data(val, 'val')"
   ]
  },
  {
   "cell_type": "code",
   "execution_count": 71,
   "metadata": {
    "collapsed": true,
    "deletable": true,
    "editable": true
   },
   "outputs": [],
   "source": [
    "with open(pjoin(data_dir, 'train_raw.pickle'), mode='w') as f:\n",
    "    pickle.dump(train, f, protocol=pickle.HIGHEST_PROTOCOL)\n",
    "with open(pjoin(data_dir, 'val_raw.pickle'), mode='w') as f:\n",
    "    pickle.dump(val, f, protocol=pickle.HIGHEST_PROTOCOL)\n",
    "with open(pjoin(data_dir, 'test_raw.pickle'), mode='w') as f:\n",
    "    pickle.dump(test, f, protocol=pickle.HIGHEST_PROTOCOL)\n",
    "with open(pjoin(data_dir, 'labels.np'), mode='w') as f:\n",
    "    labels.dump(f)"
   ]
  },
  {
   "cell_type": "markdown",
   "metadata": {
    "deletable": true,
    "editable": true
   },
   "source": [
    "# Training"
   ]
  },
  {
   "cell_type": "code",
   "execution_count": 72,
   "metadata": {
    "collapsed": true,
    "deletable": true,
    "editable": true
   },
   "outputs": [],
   "source": [
    "caffe.set_mode_gpu()"
   ]
  },
  {
   "cell_type": "markdown",
   "metadata": {
    "deletable": true,
    "editable": true
   },
   "source": [
    "### Define network"
   ]
  },
  {
   "cell_type": "code",
   "execution_count": 163,
   "metadata": {
    "collapsed": false,
    "deletable": true,
    "editable": true
   },
   "outputs": [],
   "source": [
    "def conv_relu(bottom, ks, nout, stride=1, pad=0, group=1):\n",
    "    conv = L.Convolution(bottom, kernel_size=ks, stride=stride,\n",
    "                                num_output=nout, pad=pad, group=group)\n",
    "    return conv, L.ReLU(conv, in_place=True)\n",
    "\n",
    "def fc_relu(bottom, nout):\n",
    "    fc = L.InnerProduct(bottom, num_output=nout)\n",
    "    return fc, L.ReLU(fc, in_place=True)\n",
    "\n",
    "def max_pool(bottom, ks, stride=1):\n",
    "    return L.Pooling(bottom, pool=P.Pooling.MAX, kernel_size=ks, stride=stride)\n",
    "\n",
    "def add_caffenet(net):\n",
    "    net.conv1, net.relu1 = conv_relu(net.data, 11, 96, stride=4)\n",
    "    net.pool1 = max_pool(net.relu1, 3, stride=2)\n",
    "    net.norm1 = L.LRN(net.pool1, local_size=5, alpha=1e-4, beta=0.75)\n",
    "    net.conv2, net.relu2 = conv_relu(net.norm1, 5, 256, pad=2, group=2)\n",
    "    net.pool2 = max_pool(net.relu2, 3, stride=2)\n",
    "    net.norm2 = L.LRN(net.pool2, local_size=5, alpha=1e-4, beta=0.75)\n",
    "    net.conv3, net.relu3 = conv_relu(net.norm2, 3, 384, pad=1)\n",
    "    net.conv4, net.relu4 = conv_relu(net.relu3, 3, 384, pad=1, group=2)\n",
    "    net.conv5, net.relu5 = conv_relu(net.relu4, 3, 256, pad=1, group=2)\n",
    "    net.pool5 = max_pool(net.relu5, 3, stride=2)\n",
    "    net.fc6, net.relu6 = fc_relu(net.pool5, 4096)\n",
    "    net.drop6 = L.Dropout(net.relu6, in_place=True)\n",
    "    net.fc7, net.relu7 = fc_relu(net.drop6, 4096)\n",
    "    net.drop7 = L.Dropout(net.relu7, in_place=True)\n",
    "    net.score = L.InnerProduct(net.drop7, num_output=labels.size)\n",
    "    return net\n",
    "\n",
    "def caffenet_multilabel_train(data_layer_params):\n",
    "    # setup the ntb data layer \n",
    "    net = caffe.NetSpec()\n",
    "    net.data, net.label = L.Python(\n",
    "        module='ntb.layer.data', layer='NTBDataLayer', \n",
    "        ntop=2, param_str=str(data_layer_params)\n",
    "    )\n",
    "\n",
    "    net = add_caffenet(net)\n",
    "    \n",
    "    # Changed loss function\n",
    "    net.loss = L.SigmoidCrossEntropyLoss(net.score, net.label)\n",
    "    \n",
    "    name_field = 'name: \"{}\"'.format(SUB_DIR)\n",
    "    return name_field + '\\n' + str(net.to_proto())\n",
    "\n",
    "def caffenet_multilabel_test(batch_size):\n",
    "    # setup the ntb data layer \n",
    "    net = caffe.NetSpec()\n",
    "    net.data = L.Input(input_param={\"shape\": {\"dim\": [batch_size, 3, 227, 227]}})\n",
    "\n",
    "    net = add_caffenet(net)\n",
    "    \n",
    "    # Changed loss function\n",
    "    net.prob = L.Sigmoid(net.fc7)\n",
    "    \n",
    "    name_field = 'name: \"{}\"'.format(SUB_DIR)\n",
    "    return name_field + '\\n' + str(net.to_proto())"
   ]
  },
  {
   "cell_type": "markdown",
   "metadata": {
    "deletable": true,
    "editable": true
   },
   "source": [
    "### Write nets and solver files"
   ]
  },
  {
   "cell_type": "code",
   "execution_count": 164,
   "metadata": {
    "collapsed": false,
    "deletable": true,
    "editable": true
   },
   "outputs": [],
   "source": [
    "workdir = pjoin('/storage/ntb/nets', SUB_DIR)\n",
    "if not os.path.isdir(workdir):\n",
    "    os.makedirs(workdir)\n",
    "snapshotsdir = os.path.join(workdir, 'snapshots')\n",
    "if not os.path.isdir(snapshotsdir):\n",
    "    os.makedirs(snapshotsdir)\n",
    "\n",
    "logs_file_path = pjoin(workdir, 'train.log')\n",
    "    \n",
    "solverprototxt = tools.CaffeSolver(\n",
    "    trainnet_prototxt_path=os.path.join(workdir, \"trainnet.prototxt\"),\n",
    "    testnet_prototxt_path=os.path.join(workdir, \"valnet.prototxt\"),\n",
    ")\n",
    "solverprototxt.sp['base_lr'] = \"0.0001\"\n",
    "solverprototxt.sp['display'] = \"1\"\n",
    "solverprototxt.sp['snapshot'] = \"200\"\n",
    "solverprototxt.sp['lr_policy'] = '\"fixed\"'\n",
    "solverprototxt.sp['test_interval'] = \"200\"\n",
    "solverprototxt.sp['test_iter'] = \"1000\"\n",
    "solverprototxt.sp['max_iter'] = \"1000\"\n",
    "# solverprototxt.sp['power'] = \"0.5\"\n",
    "solverprototxt.sp['snapshot_prefix'] = '\"{}\"'.format(os.path.join(snapshotsdir, 'snapshot'))\n",
    "solverprototxt.write(os.path.join(workdir, 'solver.prototxt'))\n",
    "\n",
    "base_data_layer_params = dict(\n",
    "    batch_size=200,\n",
    "    im_shape=[227, 227],\n",
    "    ntb_root=BASE_DIR,\n",
    "    sub_dir=SUB_DIR,\n",
    "    num_labels=labels.size\n",
    ")\n",
    "# write train net.\n",
    "with open(os.path.join(workdir, 'trainnet.prototxt'), 'w') as f:\n",
    "    data_layer_params = dict(base_data_layer_params, split='train')\n",
    "    f.write(caffenet_multilabel_train(data_layer_params))\n",
    "\n",
    "# write validation net.\n",
    "with open(os.path.join(workdir, 'valnet.prototxt'), 'w') as f:\n",
    "    data_layer_params = dict(base_data_layer_params, split='val', batch_size=20)\n",
    "    f.write(caffenet_multilabel_train(data_layer_params))\n",
    "    \n",
    "# write testing net.\n",
    "with open(os.path.join(workdir, 'testnet.prototxt'), 'w') as f:\n",
    "    f.write(caffenet_multilabel_test(256))"
   ]
  },
  {
   "cell_type": "markdown",
   "metadata": {
    "deletable": true,
    "editable": true
   },
   "source": [
    "### Load solver"
   ]
  },
  {
   "cell_type": "code",
   "execution_count": 115,
   "metadata": {
    "collapsed": false,
    "deletable": true,
    "editable": true
   },
   "outputs": [
    {
     "name": "stdout",
     "output_type": "stream",
     "text": [
      "BatchLoader initialized with 75131 images\n",
      "NTBDataLayer initialized for sub_dir: ft_sigmoid_noaug_rmportraits_sgd, split: train, with bs: 200, im_shape: [227, 227], num_labels: 39.\n",
      "BatchLoader initialized with 26225 images\n",
      "NTBDataLayer initialized for sub_dir: ft_sigmoid_noaug_rmportraits_sgd, split: val, with bs: 20, im_shape: [227, 227], num_labels: 39.\n"
     ]
    }
   ],
   "source": [
    "solver = caffe.SGDSolver(os.path.join(workdir, 'solver.prototxt'))"
   ]
  },
  {
   "cell_type": "markdown",
   "metadata": {
    "deletable": true,
    "editable": true
   },
   "source": [
    "### Start new training"
   ]
  },
  {
   "cell_type": "code",
   "execution_count": 116,
   "metadata": {
    "collapsed": true,
    "deletable": true,
    "editable": true
   },
   "outputs": [],
   "source": [
    "try:\n",
    "    os.remove(logs_file_path)\n",
    "except:\n",
    "    pass\n",
    "solver.net.copy_from('/models/caffenet/bvlc_reference_caffenet.caffemodel')\n",
    "solver.test_nets[0].share_with(solver.net)"
   ]
  },
  {
   "cell_type": "markdown",
   "metadata": {
    "deletable": true,
    "editable": true
   },
   "source": [
    "### Restore from snapshot"
   ]
  },
  {
   "cell_type": "code",
   "execution_count": 20,
   "metadata": {
    "collapsed": false,
    "deletable": true,
    "editable": true
   },
   "outputs": [
    {
     "name": "stdout",
     "output_type": "stream",
     "text": [
      "snapshot_iter_101.solverstate\n",
      "snapshot_iter_200.solverstate\n",
      "snapshot_iter_853.solverstate\n"
     ]
    }
   ],
   "source": [
    "for snapshot in sorted(os.listdir(snapshotsdir)):\n",
    "    if snapshot.endswith('solverstate'):\n",
    "        print snapshot"
   ]
  },
  {
   "cell_type": "code",
   "execution_count": 21,
   "metadata": {
    "collapsed": false,
    "deletable": true,
    "editable": true
   },
   "outputs": [],
   "source": [
    "solver.restore(os.path.join(snapshotsdir, 'snapshot_iter_200.solverstate'))\n",
    "solver.test_nets[0].share_with(solver.net)"
   ]
  },
  {
   "cell_type": "markdown",
   "metadata": {
    "deletable": true,
    "editable": true
   },
   "source": [
    "### Check images and labels"
   ]
  },
  {
   "cell_type": "code",
   "execution_count": 118,
   "metadata": {
    "collapsed": false,
    "deletable": true,
    "editable": true
   },
   "outputs": [],
   "source": [
    "# transformer = Transformer(shape=[227, 227])\n",
    "# image_index = 1\n",
    "# pyplot.figure()\n",
    "# pyplot.imshow(transformer.deprocess(copy(solver.net.blobs['data'].data[image_index, ...])))\n",
    "# gtlist = solver.net.blobs['label'].data[image_index, ...].astype(np.int)\n",
    "# pyplot.title('GT: {}'.format(labels[np.where(gtlist)]))\n",
    "# pyplot.axis('off');"
   ]
  },
  {
   "cell_type": "markdown",
   "metadata": {
    "deletable": true,
    "editable": true
   },
   "source": [
    "### Train network"
   ]
  },
  {
   "cell_type": "code",
   "execution_count": 119,
   "metadata": {
    "collapsed": false,
    "deletable": true,
    "editable": true
   },
   "outputs": [
    {
     "name": "stdout",
     "output_type": "stream",
     "text": [
      "Epoch 0 finished\n",
      "Epoch 0 finished\n",
      "Epoch 1 finished\n",
      "Epoch 1 finished\n",
      "Epoch 2 finished\n",
      "CPU times: user 50min 18s, sys: 19min 36s, total: 1h 9min 54s\n",
      "Wall time: 3h 52min 41s\n"
     ]
    }
   ],
   "source": [
    "%%time\n",
    "with open(logs_file_path, mode='a') as logs_file:\n",
    "    with pipes(stdout=logs_file, stderr=logs_file):\n",
    "        solver.solve()"
   ]
  },
  {
   "cell_type": "code",
   "execution_count": 79,
   "metadata": {
    "collapsed": true,
    "deletable": true,
    "editable": true
   },
   "outputs": [],
   "source": [
    "solver.snapshot()"
   ]
  },
  {
   "cell_type": "markdown",
   "metadata": {
    "deletable": true,
    "editable": true
   },
   "source": [
    "### Look at some prediction results"
   ]
  },
  {
   "cell_type": "code",
   "execution_count": null,
   "metadata": {
    "collapsed": false,
    "deletable": true,
    "editable": true
   },
   "outputs": [],
   "source": [
    "test_net = solver.test_nets[0]\n",
    "for image_index in range(20):\n",
    "    gtlist = test_net.blobs['label'].data[image_index, ...].astype(np.int)\n",
    "    estlist = test_net.blobs['score'].data[image_index, ...] > 0\n",
    "    if np.where(estlist)[0].any():\n",
    "        plt.figure()\n",
    "        plt.imshow(transformer.deprocess(copy(test_net.blobs['data'].data[image_index, ...])))\n",
    "        plt.title('GT: {} \\n EST: {}'.format(labels[np.where(gtlist)], labels[np.where(estlist)]))\n",
    "        plt.axis('off')"
   ]
  }
 ],
 "metadata": {
  "kernelspec": {
   "display_name": "Python 2",
   "language": "python",
   "name": "python2"
  },
  "language_info": {
   "codemirror_mode": {
    "name": "ipython",
    "version": 2
   },
   "file_extension": ".py",
   "mimetype": "text/x-python",
   "name": "python",
   "nbconvert_exporter": "python",
   "pygments_lexer": "ipython2",
   "version": "2.7.12"
  }
 },
 "nbformat": 4,
 "nbformat_minor": 2
}
